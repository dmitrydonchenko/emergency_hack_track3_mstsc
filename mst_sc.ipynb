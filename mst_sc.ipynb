{
 "cells": [
  {
   "cell_type": "markdown",
   "metadata": {},
   "source": [
    "# <center> Прототип решения по Треку 3:</center> <center> «Предсказание вероятности возникновения ДТП»</center>"
   ]
  },
  {
   "cell_type": "markdown",
   "metadata": {},
   "source": [
    "## Постановка задачи"
   ]
  },
  {
   "cell_type": "markdown",
   "metadata": {},
   "source": [
    "Разработать алгоритм прогнозирующий наиболее вероятную категорию события дорожно-транспортного происшествия (далее по тексту «ДТП»):\n",
    "\n",
    ">1. ДТП не произойдет\n",
    ">1. ДТП произойдет без пострадавших\n",
    ">1. ДТП произойдет с пострадавшими\n",
    "\n",
    "Данные для обучения — информация о ДТП от ГИБДД и ВНИИ ГОЧС, а также дополнительные данные по интенсивности движения, метеоусловиях на участках дороги и др. В качестве федеральных автомобильных дорог рассматриваются М-8 «Холмогоры» и Р-21 «Кола»."
   ]
  },
  {
   "cell_type": "markdown",
   "metadata": {},
   "source": [
    "## Прототип решения"
   ]
  },
  {
   "cell_type": "code",
   "execution_count": 84,
   "metadata": {},
   "outputs": [],
   "source": [
    "%matplotlib inline\n",
    "import pandas as pd\n",
    "import matplotlib.pyplot as plt\n",
    "import seaborn as sns\n",
    "from datetime import datetime, timedelta\n",
    "from sklearn import svm\n",
    "from sklearn.model_selection import train_test_split\n",
    "from sklearn.preprocessing import MinMaxScaler\n",
    "import numpy as np\n",
    "import re\n",
    "import functools\n",
    "from geopy.distance import geodesic\n",
    "from sklearn.metrics import roc_auc_score\n",
    "from sklearn.metrics import f1_score\n",
    "import numpy as np"
   ]
  },
  {
   "cell_type": "code",
   "execution_count": 85,
   "metadata": {},
   "outputs": [],
   "source": [
    "pd.set_option('display.max_rows', None)\n",
    "pd.set_option('display.max_colwidth', None)\n",
    "pd.set_option('display.max_columns', None)"
   ]
  },
  {
   "cell_type": "markdown",
   "metadata": {},
   "source": [
    "### 1. Подготовка датасета для обучения модели"
   ]
  },
  {
   "cell_type": "code",
   "execution_count": 97,
   "metadata": {},
   "outputs": [
    {
     "data": {
      "text/html": [
       "<div>\n",
       "<style scoped>\n",
       "    .dataframe tbody tr th:only-of-type {\n",
       "        vertical-align: middle;\n",
       "    }\n",
       "\n",
       "    .dataframe tbody tr th {\n",
       "        vertical-align: top;\n",
       "    }\n",
       "\n",
       "    .dataframe thead th {\n",
       "        text-align: right;\n",
       "    }\n",
       "</style>\n",
       "<table border=\"1\" class=\"dataframe\">\n",
       "  <thead>\n",
       "    <tr style=\"text-align: right;\">\n",
       "      <th></th>\n",
       "      <th>datetime</th>\n",
       "      <th>road_id</th>\n",
       "      <th>road_km</th>\n",
       "      <th>man_injured_num</th>\n",
       "      <th>man_dead_num</th>\n",
       "      <th>car_damaged_num</th>\n",
       "      <th>road_name</th>\n",
       "      <th>lon</th>\n",
       "      <th>lat</th>\n",
       "      <th>data_source</th>\n",
       "      <th>target</th>\n",
       "    </tr>\n",
       "  </thead>\n",
       "  <tbody>\n",
       "    <tr>\n",
       "      <th>0</th>\n",
       "      <td>2012-01-01 12:00:00</td>\n",
       "      <td>14</td>\n",
       "      <td>1276</td>\n",
       "      <td>1</td>\n",
       "      <td>0</td>\n",
       "      <td>1.0</td>\n",
       "      <td>М-18 ( E105) =Кола=          С.-Петербург-Мурманск через Петрозаводск</td>\n",
       "      <td>33.319</td>\n",
       "      <td>68.212</td>\n",
       "      <td>gochs</td>\n",
       "      <td>2</td>\n",
       "    </tr>\n",
       "    <tr>\n",
       "      <th>1</th>\n",
       "      <td>2012-01-01 22:00:00</td>\n",
       "      <td>9</td>\n",
       "      <td>278</td>\n",
       "      <td>2</td>\n",
       "      <td>0</td>\n",
       "      <td>3.0</td>\n",
       "      <td>М-8 (E115) =Холмогоры=   Москва-Архангельск через Ярославль, Вологду</td>\n",
       "      <td>0.000</td>\n",
       "      <td>0.000</td>\n",
       "      <td>gochs</td>\n",
       "      <td>2</td>\n",
       "    </tr>\n",
       "  </tbody>\n",
       "</table>\n",
       "</div>"
      ],
      "text/plain": [
       "             datetime  road_id  road_km  man_injured_num  man_dead_num  \\\n",
       "0 2012-01-01 12:00:00       14     1276                1             0   \n",
       "1 2012-01-01 22:00:00        9      278                2             0   \n",
       "\n",
       "   car_damaged_num  \\\n",
       "0              1.0   \n",
       "1              3.0   \n",
       "\n",
       "                                                               road_name  \\\n",
       "0  М-18 ( E105) =Кола=          С.-Петербург-Мурманск через Петрозаводск   \n",
       "1   М-8 (E115) =Холмогоры=   Москва-Архангельск через Ярославль, Вологду   \n",
       "\n",
       "      lon     lat data_source  target  \n",
       "0  33.319  68.212       gochs       2  \n",
       "1   0.000   0.000       gochs       2  "
      ]
     },
     "execution_count": 97,
     "metadata": {},
     "output_type": "execute_result"
    }
   ],
   "source": [
    "df = pd.read_pickle('data/train.pickle')\n",
    "df = df.sort_values('datetime', ascending=True)\n",
    "df.reset_index(drop=True, inplace=True)\n",
    "df.head(2)"
   ]
  },
  {
   "cell_type": "markdown",
   "metadata": {},
   "source": [
    "#### Тренеровочный датасет (`train.csv`):\n",
    "> 1. **datetime** - дата события в формате `yyyy-MM-dd hh-mm-ss`\n",
    "> 1. **road_id** - код автодороги, принимает одно из трех значений:\n",
    ">    * 5 — М-4 (E115) “Дон” Москва - Новороссийск;\n",
    ">    * 9 — М-8 (E115) “Холмогоры” Москва - Архангельск через Ярославль, Вологду;\n",
    ">    * 4 — М-18 / Р-21 (E105) “Кола” С.Петербург - Мурманск через Петрозаводск.\n",
    "> 1. **road_km** - км участка на котором произошло ДТП\n",
    "> 1. **data_source** - источник данных события. В датасете атрибут принимает одно из двух значений:\n",
    ">    * gibdd - ГИБДД;\n",
    ">    * gochs - МЧС.\n",
    "> 1. **target** - целевой признак является ли событие ДТП. В датасете атрибут принимает одно из четырех значений:\n",
    ">    * 1 - ДТП без пострадавших;\n",
    ">    * 2 - ДТП с пострадавшими;\n",
    ">    * 3 - ЧС (объявляется от 5 погибших и/или 10 пострадавших)* в тестовой выборке события отсутствуют0 - событие не является ДТП;"
   ]
  },
  {
   "cell_type": "code",
   "execution_count": 98,
   "metadata": {},
   "outputs": [
    {
     "name": "stdout",
     "output_type": "stream",
     "text": [
      "<class 'pandas.core.frame.DataFrame'>\n",
      "RangeIndex: 109737 entries, 0 to 109736\n",
      "Data columns (total 11 columns):\n",
      " #   Column           Non-Null Count   Dtype         \n",
      "---  ------           --------------   -----         \n",
      " 0   datetime         109737 non-null  datetime64[ns]\n",
      " 1   road_id          109737 non-null  int64         \n",
      " 2   road_km          109737 non-null  int64         \n",
      " 3   man_injured_num  109737 non-null  int64         \n",
      " 4   man_dead_num     109737 non-null  int64         \n",
      " 5   car_damaged_num  102000 non-null  float64       \n",
      " 6   road_name        109737 non-null  object        \n",
      " 7   lon              55450 non-null   float64       \n",
      " 8   lat              55450 non-null   float64       \n",
      " 9   data_source      109737 non-null  object        \n",
      " 10  target           109737 non-null  int64         \n",
      "dtypes: datetime64[ns](1), float64(3), int64(5), object(2)\n",
      "memory usage: 9.2+ MB\n"
     ]
    }
   ],
   "source": [
    "df.info()"
   ]
  },
  {
   "cell_type": "code",
   "execution_count": 261,
   "metadata": {},
   "outputs": [
    {
     "data": {
      "text/plain": [
       "5     50030\n",
       "9     23860\n",
       "14    12742\n",
       "Name: road_id, dtype: int64"
      ]
     },
     "execution_count": 261,
     "metadata": {},
     "output_type": "execute_result"
    }
   ],
   "source": [
    "df.road_id.value_counts()"
   ]
  },
  {
   "cell_type": "code",
   "execution_count": 99,
   "metadata": {},
   "outputs": [
    {
     "name": "stdout",
     "output_type": "stream",
     "text": [
      "Временной интервал наблюдений: от 2012-01-01 12:00:00 до 2021-04-05 11:00:00\n",
      "Кол-во наблюдений по источникам данных: ГИБДД - 94678, МЧС 15059\n"
     ]
    }
   ],
   "source": [
    "start = df.datetime.min()\n",
    "end = df.datetime.max()\n",
    "print(\"Временной интервал наблюдений: от {} до {}\".format(start,end))\n",
    "gibdd = df.groupby('data_source')['road_id'].count()[0]\n",
    "mchs = df.groupby('data_source')['road_id'].count()[1]\n",
    "print(\"Кол-во наблюдений по источникам данных: ГИБДД - {}, МЧС {}\".format(gibdd,mchs))"
   ]
  },
  {
   "cell_type": "code",
   "execution_count": 100,
   "metadata": {},
   "outputs": [
    {
     "data": {
      "image/png": "[encoded data removed]",
      "text/plain": [
       "<Figure size 1224x1152 with 3 Axes>"
      ]
     },
     "metadata": {
      "needs_background": "light"
     },
     "output_type": "display_data"
    }
   ],
   "source": [
    "# распределение ДТП в расрезе трех трасс\n",
    "fig, ax = plt.subplots(figsize=(17,16), ncols=1, nrows=3)\n",
    "\n",
    "road_5 = df.drop(df[df[\"road_id\"]==5].index)\n",
    "road_9 = df.drop(df[df[\"road_id\"]==9].index)\n",
    "road_14 = df.drop(df[df[\"road_id\"]==14].index)\n",
    "\n",
    "dtp_day_5 = road_5[['datetime', 'target']].set_index('datetime').resample('D').count()['target']\n",
    "dtp_day_9 = road_9[['datetime', 'target']].set_index('datetime').resample('D').count()['target']\n",
    "dtp_day_14 = road_14[['datetime', 'target']].set_index('datetime').resample('D').count()['target']\n",
    "\n",
    "dtp_day_5.plot(color='tab:cyan', ax=ax[0]).set_ylabel('Кол-во ДТП в сутки', fontsize=13)\n",
    "dtp_day_9.plot(color='tab:blue', ax=ax[1]).set_ylabel('Кол-во ДТП в сутки', fontsize=13)\n",
    "dtp_day_14.plot(color='tab:orange', ax=ax[2]).set_ylabel('Кол-во ДТП в сутки', fontsize=13)\n",
    "\n",
    "ax[0].set_title('Кол-во ДТП в сутки на трассе М-4',loc='center', fontsize=16)\n",
    "ax[1].set_title('Кол-во ДТП в сутки на трассе М-8',loc='center', fontsize=16)\n",
    "ax[2].set_title('Кол-во ДТП в сутки на трассе Р-21',loc='center', fontsize=16)\n",
    "plt.show()"
   ]
  },
  {
   "cell_type": "markdown",
   "metadata": {},
   "source": [
    "На временном интервале от 2012-01-01 до 2021-04-05 можно наблюдать разброс в количестве аварий по дням в разрезе лет: так, с 2016 года суточный показатель ДТП значительно больше по каждой из рассматриваемых трасс. Такой разброс объясняетсся различной представленностью данных МЧС (15059) и ГИБДД (94678 наблюдений) с отсутствием последних на интервале 2012-2015 гг. (см. график ниже). "
   ]
  },
  {
   "cell_type": "code",
   "execution_count": 101,
   "metadata": {},
   "outputs": [
    {
     "data": {
      "image/png": "[encoded data removed]",
      "text/plain": [
       "<Figure size 1224x216 with 1 Axes>"
      ]
     },
     "metadata": {
      "needs_background": "light"
     },
     "output_type": "display_data"
    }
   ],
   "source": [
    "fig, ax = plt.subplots(figsize=(17,3))\n",
    "plt.scatter(road_9['datetime'], road_9['data_source'])\n",
    "ax.set_title('Представленность данных о ДТП в разрезе источников',loc='center', fontsize=16)\n",
    "plt.show()"
   ]
  },
  {
   "cell_type": "markdown",
   "metadata": {},
   "source": [
    "Для дальнейшего обучения модели **выберем данные о ДТП по всем трассам**. Рассмотрим ситуацию для всех значений переменной `target`. Выберем период наблюдения с 2016-01-01 по 2020-12-31, заполним промежутки между наблюдениями на всем временном интервале нулевыми значениями с шагом в один час, присвоив значения 0 (событие не является ДТП) переменной `target`, и обогатим исходную выборку переменными из других датасетов."
   ]
  },
  {
   "cell_type": "code",
   "execution_count": 163,
   "metadata": {},
   "outputs": [],
   "source": [
    "START_TRAIN_DATE = '2016-01-01'\n",
    "END_TRAIN_DATE = '2020-12-31'\n",
    "\n",
    "def filter_by_dates(df, start_date, train_date, datetime_col = 'datetime'):\n",
    "    date_condition1 = (df[datetime_col] >= start_date)\n",
    "    date_condition2 = (df[datetime_col] <= train_date)\n",
    "    return df[date_condition1 & date_condition2]"
   ]
  },
  {
   "cell_type": "code",
   "execution_count": 164,
   "metadata": {},
   "outputs": [
    {
     "name": "stdout",
     "output_type": "stream",
     "text": [
      "<class 'pandas.core.frame.DataFrame'>\n",
      "Int64Index: 86632 entries, 22740 to 109371\n",
      "Data columns (total 11 columns):\n",
      " #   Column           Non-Null Count  Dtype         \n",
      "---  ------           --------------  -----         \n",
      " 0   datetime         86632 non-null  datetime64[ns]\n",
      " 1   road_id          86632 non-null  int64         \n",
      " 2   road_km          86632 non-null  int64         \n",
      " 3   man_injured_num  86632 non-null  int64         \n",
      " 4   man_dead_num     86632 non-null  int64         \n",
      " 5   car_damaged_num  86632 non-null  float64       \n",
      " 6   road_name        86632 non-null  object        \n",
      " 7   lon              47570 non-null  float64       \n",
      " 8   lat              47570 non-null  float64       \n",
      " 9   data_source      86632 non-null  object        \n",
      " 10  target           86632 non-null  int64         \n",
      "dtypes: datetime64[ns](1), float64(3), int64(5), object(2)\n",
      "memory usage: 7.9+ MB\n"
     ]
    }
   ],
   "source": [
    "df = filter_by_dates(df, START_TRAIN_DATE, END_TRAIN_DATE)\n",
    "#df = df[['datetime','road_km','target']]\n",
    "df.info()"
   ]
  },
  {
   "cell_type": "code",
   "execution_count": 165,
   "metadata": {},
   "outputs": [
    {
     "data": {
      "text/plain": [
       "1    72491\n",
       "2    14114\n",
       "3       27\n",
       "Name: target, dtype: int64"
      ]
     },
     "execution_count": 165,
     "metadata": {},
     "output_type": "execute_result"
    }
   ],
   "source": [
    "df.target.value_counts()"
   ]
  },
  {
   "cell_type": "markdown",
   "metadata": {},
   "source": [
    "Как видно, данные не сбалансированны по классам"
   ]
  },
  {
   "cell_type": "markdown",
   "metadata": {},
   "source": [
    "#### Обагащение выборки переменными из остальных датасетов"
   ]
  },
  {
   "cell_type": "code",
   "execution_count": 127,
   "metadata": {},
   "outputs": [],
   "source": [
    "traffic = pd.read_pickle('data/traffic.pickle')\n",
    "repair = pd.read_pickle('data/repair.pickle')\n",
    "crash_parts = pd.read_pickle('data/crash_parts.pickle')\n",
    "atmos = pd.read_pickle('data/atmos.pickle')\n",
    "geo_data = pd.read_pickle('data/geo_data.pickle')\n",
    "meteo = pd.read_pickle('data/meteo.pickle')\n",
    "tele2_data = pd.read_pickle('data/tele2_data.pickle')"
   ]
  },
  {
   "cell_type": "code",
   "execution_count": 258,
   "metadata": {},
   "outputs": [],
   "source": [
    "r21_attributes = pd.read_pickle('data/Р-21-атрибуты.pickle')"
   ]
  },
  {
   "cell_type": "markdown",
   "metadata": {},
   "source": [
    "### TODO: исследовать Р21 аттрибуты"
   ]
  },
  {
   "cell_type": "code",
   "execution_count": 259,
   "metadata": {},
   "outputs": [
    {
     "name": "stdout",
     "output_type": "stream",
     "text": [
      "<class 'pandas.core.frame.DataFrame'>\n",
      "RangeIndex: 209385 entries, 0 to 209384\n",
      "Data columns (total 26 columns):\n",
      " #   Column                  Non-Null Count   Dtype  \n",
      "---  ------                  --------------   -----  \n",
      " 0   user_id                 209385 non-null  int64  \n",
      " 1   way_id                  209385 non-null  int64  \n",
      " 2   way_version             209385 non-null  int64  \n",
      " 3   way_status              209385 non-null  object \n",
      " 4   point_status            209385 non-null  object \n",
      " 5   processed_date          209385 non-null  object \n",
      " 6   way_sort_order          209385 non-null  int64  \n",
      " 7   point_sort_order        209385 non-null  int64  \n",
      " 8   lat                     209385 non-null  int64  \n",
      " 9   lon                     209385 non-null  int64  \n",
      " 10  direction               209385 non-null  bool   \n",
      " 11  photo_name              0 non-null       float64\n",
      " 12  photo_date              209125 non-null  object \n",
      " 13  vehicle_occupant_score  209385 non-null  float64\n",
      " 14  motorcyclist_score      209385 non-null  float64\n",
      " 15  bicyclist_score         209385 non-null  float64\n",
      " 16  pedestrian_score        209385 non-null  float64\n",
      " 17  item_code               209385 non-null  int64  \n",
      " 18  item_name               209385 non-null  object \n",
      " 19  user_attribute_number   209378 non-null  object \n",
      " 20  user_attribute_name     209378 non-null  object \n",
      " 21  ml_attribute_number     0 non-null       float64\n",
      " 22  ml_attribute_name       0 non-null       float64\n",
      " 23  osm_attribute_number    339 non-null     object \n",
      " 24  osm_attribute_name      339 non-null     object \n",
      " 25  OSM_tags                9173 non-null    object \n",
      "dtypes: bool(1), float64(7), int64(8), object(10)\n",
      "memory usage: 40.1+ MB\n"
     ]
    }
   ],
   "source": [
    "r21_attributes.info()"
   ]
  },
  {
   "cell_type": "code",
   "execution_count": 260,
   "metadata": {},
   "outputs": [
    {
     "data": {
      "text/html": [
       "<div>\n",
       "<style scoped>\n",
       "    .dataframe tbody tr th:only-of-type {\n",
       "        vertical-align: middle;\n",
       "    }\n",
       "\n",
       "    .dataframe tbody tr th {\n",
       "        vertical-align: top;\n",
       "    }\n",
       "\n",
       "    .dataframe thead th {\n",
       "        text-align: right;\n",
       "    }\n",
       "</style>\n",
       "<table border=\"1\" class=\"dataframe\">\n",
       "  <thead>\n",
       "    <tr style=\"text-align: right;\">\n",
       "      <th></th>\n",
       "      <th>user_id</th>\n",
       "      <th>way_id</th>\n",
       "      <th>way_version</th>\n",
       "      <th>way_status</th>\n",
       "      <th>point_status</th>\n",
       "      <th>processed_date</th>\n",
       "      <th>way_sort_order</th>\n",
       "      <th>point_sort_order</th>\n",
       "      <th>lat</th>\n",
       "      <th>lon</th>\n",
       "      <th>direction</th>\n",
       "      <th>photo_name</th>\n",
       "      <th>photo_date</th>\n",
       "      <th>vehicle_occupant_score</th>\n",
       "      <th>motorcyclist_score</th>\n",
       "      <th>bicyclist_score</th>\n",
       "      <th>pedestrian_score</th>\n",
       "      <th>item_code</th>\n",
       "      <th>item_name</th>\n",
       "      <th>user_attribute_number</th>\n",
       "      <th>user_attribute_name</th>\n",
       "      <th>ml_attribute_number</th>\n",
       "      <th>ml_attribute_name</th>\n",
       "      <th>osm_attribute_number</th>\n",
       "      <th>osm_attribute_name</th>\n",
       "      <th>OSM_tags</th>\n",
       "    </tr>\n",
       "  </thead>\n",
       "  <tbody>\n",
       "    <tr>\n",
       "      <th>0</th>\n",
       "      <td>85</td>\n",
       "      <td>640977410</td>\n",
       "      <td>2</td>\n",
       "      <td>PROCESSED</td>\n",
       "      <td>PROCESSED</td>\n",
       "      <td>2021-04-15 13:16:11.165</td>\n",
       "      <td>0</td>\n",
       "      <td>1</td>\n",
       "      <td>598887107</td>\n",
       "      <td>312377870</td>\n",
       "      <td>True</td>\n",
       "      <td>NaN</td>\n",
       "      <td>2019-06-01 03:00:00.0</td>\n",
       "      <td>16.21</td>\n",
       "      <td>21.365</td>\n",
       "      <td>106.319</td>\n",
       "      <td>74.197</td>\n",
       "      <td>13</td>\n",
       "      <td>Carriageway label</td>\n",
       "      <td>3</td>\n",
       "      <td>Undivided road</td>\n",
       "      <td>NaN</td>\n",
       "      <td>NaN</td>\n",
       "      <td>NaN</td>\n",
       "      <td>NaN</td>\n",
       "      <td>NaN</td>\n",
       "    </tr>\n",
       "    <tr>\n",
       "      <th>1</th>\n",
       "      <td>85</td>\n",
       "      <td>640977410</td>\n",
       "      <td>2</td>\n",
       "      <td>PROCESSED</td>\n",
       "      <td>PROCESSED</td>\n",
       "      <td>2021-04-15 13:16:11.165</td>\n",
       "      <td>0</td>\n",
       "      <td>1</td>\n",
       "      <td>598887107</td>\n",
       "      <td>312377870</td>\n",
       "      <td>True</td>\n",
       "      <td>NaN</td>\n",
       "      <td>2019-06-01 03:00:00.0</td>\n",
       "      <td>16.21</td>\n",
       "      <td>21.365</td>\n",
       "      <td>106.319</td>\n",
       "      <td>74.197</td>\n",
       "      <td>20</td>\n",
       "      <td>Land use - driver-side</td>\n",
       "      <td>1</td>\n",
       "      <td>Undeveloped areas</td>\n",
       "      <td>NaN</td>\n",
       "      <td>NaN</td>\n",
       "      <td>NaN</td>\n",
       "      <td>NaN</td>\n",
       "      <td>NaN</td>\n",
       "    </tr>\n",
       "    <tr>\n",
       "      <th>2</th>\n",
       "      <td>85</td>\n",
       "      <td>640977410</td>\n",
       "      <td>2</td>\n",
       "      <td>PROCESSED</td>\n",
       "      <td>PROCESSED</td>\n",
       "      <td>2021-04-15 13:16:11.165</td>\n",
       "      <td>0</td>\n",
       "      <td>1</td>\n",
       "      <td>598887107</td>\n",
       "      <td>312377870</td>\n",
       "      <td>True</td>\n",
       "      <td>NaN</td>\n",
       "      <td>2019-06-01 03:00:00.0</td>\n",
       "      <td>16.21</td>\n",
       "      <td>21.365</td>\n",
       "      <td>106.319</td>\n",
       "      <td>74.197</td>\n",
       "      <td>21</td>\n",
       "      <td>Land use – passenger-side</td>\n",
       "      <td>1</td>\n",
       "      <td>Undeveloped areas</td>\n",
       "      <td>NaN</td>\n",
       "      <td>NaN</td>\n",
       "      <td>NaN</td>\n",
       "      <td>NaN</td>\n",
       "      <td>NaN</td>\n",
       "    </tr>\n",
       "    <tr>\n",
       "      <th>3</th>\n",
       "      <td>85</td>\n",
       "      <td>640977410</td>\n",
       "      <td>2</td>\n",
       "      <td>PROCESSED</td>\n",
       "      <td>PROCESSED</td>\n",
       "      <td>2021-04-15 13:16:11.165</td>\n",
       "      <td>0</td>\n",
       "      <td>1</td>\n",
       "      <td>598887107</td>\n",
       "      <td>312377870</td>\n",
       "      <td>True</td>\n",
       "      <td>NaN</td>\n",
       "      <td>2019-06-01 03:00:00.0</td>\n",
       "      <td>16.21</td>\n",
       "      <td>21.365</td>\n",
       "      <td>106.319</td>\n",
       "      <td>74.197</td>\n",
       "      <td>22</td>\n",
       "      <td>Area type</td>\n",
       "      <td>1</td>\n",
       "      <td>Rural</td>\n",
       "      <td>NaN</td>\n",
       "      <td>NaN</td>\n",
       "      <td>NaN</td>\n",
       "      <td>NaN</td>\n",
       "      <td>NaN</td>\n",
       "    </tr>\n",
       "    <tr>\n",
       "      <th>4</th>\n",
       "      <td>85</td>\n",
       "      <td>640977410</td>\n",
       "      <td>2</td>\n",
       "      <td>PROCESSED</td>\n",
       "      <td>PROCESSED</td>\n",
       "      <td>2021-04-15 13:16:11.165</td>\n",
       "      <td>0</td>\n",
       "      <td>1</td>\n",
       "      <td>598887107</td>\n",
       "      <td>312377870</td>\n",
       "      <td>True</td>\n",
       "      <td>NaN</td>\n",
       "      <td>2019-06-01 03:00:00.0</td>\n",
       "      <td>16.21</td>\n",
       "      <td>21.365</td>\n",
       "      <td>106.319</td>\n",
       "      <td>74.197</td>\n",
       "      <td>23</td>\n",
       "      <td>Speed limit</td>\n",
       "      <td>13</td>\n",
       "      <td>90km/h</td>\n",
       "      <td>NaN</td>\n",
       "      <td>NaN</td>\n",
       "      <td>NaN</td>\n",
       "      <td>NaN</td>\n",
       "      <td>NaN</td>\n",
       "    </tr>\n",
       "  </tbody>\n",
       "</table>\n",
       "</div>"
      ],
      "text/plain": [
       "   user_id     way_id  way_version way_status point_status  \\\n",
       "0       85  640977410            2  PROCESSED    PROCESSED   \n",
       "1       85  640977410            2  PROCESSED    PROCESSED   \n",
       "2       85  640977410            2  PROCESSED    PROCESSED   \n",
       "3       85  640977410            2  PROCESSED    PROCESSED   \n",
       "4       85  640977410            2  PROCESSED    PROCESSED   \n",
       "\n",
       "            processed_date  way_sort_order  point_sort_order        lat  \\\n",
       "0  2021-04-15 13:16:11.165               0                 1  598887107   \n",
       "1  2021-04-15 13:16:11.165               0                 1  598887107   \n",
       "2  2021-04-15 13:16:11.165               0                 1  598887107   \n",
       "3  2021-04-15 13:16:11.165               0                 1  598887107   \n",
       "4  2021-04-15 13:16:11.165               0                 1  598887107   \n",
       "\n",
       "         lon  direction  photo_name             photo_date  \\\n",
       "0  312377870       True         NaN  2019-06-01 03:00:00.0   \n",
       "1  312377870       True         NaN  2019-06-01 03:00:00.0   \n",
       "2  312377870       True         NaN  2019-06-01 03:00:00.0   \n",
       "3  312377870       True         NaN  2019-06-01 03:00:00.0   \n",
       "4  312377870       True         NaN  2019-06-01 03:00:00.0   \n",
       "\n",
       "   vehicle_occupant_score  motorcyclist_score  bicyclist_score  \\\n",
       "0                   16.21              21.365          106.319   \n",
       "1                   16.21              21.365          106.319   \n",
       "2                   16.21              21.365          106.319   \n",
       "3                   16.21              21.365          106.319   \n",
       "4                   16.21              21.365          106.319   \n",
       "\n",
       "   pedestrian_score  item_code                  item_name  \\\n",
       "0            74.197         13          Carriageway label   \n",
       "1            74.197         20     Land use - driver-side   \n",
       "2            74.197         21  Land use – passenger-side   \n",
       "3            74.197         22                  Area type   \n",
       "4            74.197         23                Speed limit   \n",
       "\n",
       "  user_attribute_number user_attribute_name  ml_attribute_number  \\\n",
       "0                     3      Undivided road                  NaN   \n",
       "1                     1   Undeveloped areas                  NaN   \n",
       "2                     1   Undeveloped areas                  NaN   \n",
       "3                     1               Rural                  NaN   \n",
       "4                    13              90km/h                  NaN   \n",
       "\n",
       "   ml_attribute_name osm_attribute_number osm_attribute_name OSM_tags  \n",
       "0                NaN                  NaN                NaN      NaN  \n",
       "1                NaN                  NaN                NaN      NaN  \n",
       "2                NaN                  NaN                NaN      NaN  \n",
       "3                NaN                  NaN                NaN      NaN  \n",
       "4                NaN                  NaN                NaN      NaN  "
      ]
     },
     "execution_count": 260,
     "metadata": {},
     "output_type": "execute_result"
    }
   ],
   "source": [
    "r21_attributes.head()"
   ]
  },
  {
   "cell_type": "code",
   "execution_count": null,
   "metadata": {},
   "outputs": [],
   "source": []
  },
  {
   "cell_type": "markdown",
   "metadata": {},
   "source": [
    "### TODO: исследовать traffic.csv - Дима Д"
   ]
  },
  {
   "cell_type": "code",
   "execution_count": 157,
   "metadata": {},
   "outputs": [
    {
     "name": "stdout",
     "output_type": "stream",
     "text": [
      "<class 'pandas.core.frame.DataFrame'>\n",
      "Int64Index: 1275667 entries, 2697651 to 7141751\n",
      "Data columns (total 14 columns):\n",
      " #   Column      Non-Null Count    Dtype         \n",
      "---  ------      --------------    -----         \n",
      " 0   datetime    1275667 non-null  datetime64[ns]\n",
      " 1   road_id     1275667 non-null  int64         \n",
      " 2   road_km     1275667 non-null  int64         \n",
      " 3   name        1275667 non-null  object        \n",
      " 4   data_id     1275667 non-null  int64         \n",
      " 5   station_id  1275667 non-null  int64         \n",
      " 6   lane        1275667 non-null  int64         \n",
      " 7   lane_count  1275667 non-null  int64         \n",
      " 8   direction   1275667 non-null  object        \n",
      " 9   volume      1275667 non-null  float64       \n",
      " 10  occupancy   1275667 non-null  float64       \n",
      " 11  speed       1275667 non-null  float64       \n",
      " 12  latitude    1275667 non-null  float64       \n",
      " 13  longitude   1275667 non-null  float64       \n",
      "dtypes: datetime64[ns](1), float64(5), int64(6), object(2)\n",
      "memory usage: 146.0+ MB\n"
     ]
    }
   ],
   "source": [
    "traffic.info()"
   ]
  },
  {
   "cell_type": "code",
   "execution_count": 158,
   "metadata": {},
   "outputs": [
    {
     "data": {
      "text/html": [
       "<div>\n",
       "<style scoped>\n",
       "    .dataframe tbody tr th:only-of-type {\n",
       "        vertical-align: middle;\n",
       "    }\n",
       "\n",
       "    .dataframe tbody tr th {\n",
       "        vertical-align: top;\n",
       "    }\n",
       "\n",
       "    .dataframe thead th {\n",
       "        text-align: right;\n",
       "    }\n",
       "</style>\n",
       "<table border=\"1\" class=\"dataframe\">\n",
       "  <thead>\n",
       "    <tr style=\"text-align: right;\">\n",
       "      <th></th>\n",
       "      <th>datetime</th>\n",
       "      <th>road_id</th>\n",
       "      <th>road_km</th>\n",
       "      <th>name</th>\n",
       "      <th>data_id</th>\n",
       "      <th>station_id</th>\n",
       "      <th>lane</th>\n",
       "      <th>lane_count</th>\n",
       "      <th>direction</th>\n",
       "      <th>volume</th>\n",
       "      <th>occupancy</th>\n",
       "      <th>speed</th>\n",
       "      <th>latitude</th>\n",
       "      <th>longitude</th>\n",
       "    </tr>\n",
       "  </thead>\n",
       "  <tbody>\n",
       "    <tr>\n",
       "      <th>2697651</th>\n",
       "      <td>2020-01-01 01:00:00</td>\n",
       "      <td>9</td>\n",
       "      <td>578</td>\n",
       "      <td>км 578+300</td>\n",
       "      <td>34619378</td>\n",
       "      <td>41106</td>\n",
       "      <td>1</td>\n",
       "      <td>2</td>\n",
       "      <td>backward</td>\n",
       "      <td>20.0</td>\n",
       "      <td>0.66</td>\n",
       "      <td>54.0</td>\n",
       "      <td>60.000762</td>\n",
       "      <td>41.072852</td>\n",
       "    </tr>\n",
       "    <tr>\n",
       "      <th>2697652</th>\n",
       "      <td>2020-01-01 01:00:00</td>\n",
       "      <td>9</td>\n",
       "      <td>977</td>\n",
       "      <td>км 977+500</td>\n",
       "      <td>34619557</td>\n",
       "      <td>41115</td>\n",
       "      <td>1</td>\n",
       "      <td>1</td>\n",
       "      <td>backward</td>\n",
       "      <td>20.0</td>\n",
       "      <td>1.00</td>\n",
       "      <td>96.0</td>\n",
       "      <td>62.952595</td>\n",
       "      <td>42.587645</td>\n",
       "    </tr>\n",
       "    <tr>\n",
       "      <th>2697653</th>\n",
       "      <td>2020-01-01 01:00:00</td>\n",
       "      <td>9</td>\n",
       "      <td>578</td>\n",
       "      <td>км 578+300</td>\n",
       "      <td>34619378</td>\n",
       "      <td>41106</td>\n",
       "      <td>2</td>\n",
       "      <td>2</td>\n",
       "      <td>backward</td>\n",
       "      <td>18.0</td>\n",
       "      <td>0.59</td>\n",
       "      <td>60.0</td>\n",
       "      <td>60.000762</td>\n",
       "      <td>41.072852</td>\n",
       "    </tr>\n",
       "    <tr>\n",
       "      <th>2697654</th>\n",
       "      <td>2020-01-01 01:00:00</td>\n",
       "      <td>9</td>\n",
       "      <td>578</td>\n",
       "      <td>км 578+300</td>\n",
       "      <td>34619378</td>\n",
       "      <td>41106</td>\n",
       "      <td>1</td>\n",
       "      <td>2</td>\n",
       "      <td>forward</td>\n",
       "      <td>10.0</td>\n",
       "      <td>0.26</td>\n",
       "      <td>34.0</td>\n",
       "      <td>60.000762</td>\n",
       "      <td>41.072852</td>\n",
       "    </tr>\n",
       "    <tr>\n",
       "      <th>2697655</th>\n",
       "      <td>2020-01-01 01:00:00</td>\n",
       "      <td>9</td>\n",
       "      <td>977</td>\n",
       "      <td>км 977+500</td>\n",
       "      <td>34619557</td>\n",
       "      <td>41115</td>\n",
       "      <td>1</td>\n",
       "      <td>1</td>\n",
       "      <td>forward</td>\n",
       "      <td>24.0</td>\n",
       "      <td>1.20</td>\n",
       "      <td>96.0</td>\n",
       "      <td>62.952595</td>\n",
       "      <td>42.587645</td>\n",
       "    </tr>\n",
       "  </tbody>\n",
       "</table>\n",
       "</div>"
      ],
      "text/plain": [
       "                   datetime  road_id  road_km        name   data_id  \\\n",
       "2697651 2020-01-01 01:00:00        9      578  км 578+300  34619378   \n",
       "2697652 2020-01-01 01:00:00        9      977  км 977+500  34619557   \n",
       "2697653 2020-01-01 01:00:00        9      578  км 578+300  34619378   \n",
       "2697654 2020-01-01 01:00:00        9      578  км 578+300  34619378   \n",
       "2697655 2020-01-01 01:00:00        9      977  км 977+500  34619557   \n",
       "\n",
       "         station_id  lane  lane_count direction  volume  occupancy  speed  \\\n",
       "2697651       41106     1           2  backward    20.0       0.66   54.0   \n",
       "2697652       41115     1           1  backward    20.0       1.00   96.0   \n",
       "2697653       41106     2           2  backward    18.0       0.59   60.0   \n",
       "2697654       41106     1           2   forward    10.0       0.26   34.0   \n",
       "2697655       41115     1           1   forward    24.0       1.20   96.0   \n",
       "\n",
       "          latitude  longitude  \n",
       "2697651  60.000762  41.072852  \n",
       "2697652  62.952595  42.587645  \n",
       "2697653  60.000762  41.072852  \n",
       "2697654  60.000762  41.072852  \n",
       "2697655  62.952595  42.587645  "
      ]
     },
     "execution_count": 158,
     "metadata": {},
     "output_type": "execute_result"
    }
   ],
   "source": [
    "traffic.head()"
   ]
  },
  {
   "cell_type": "code",
   "execution_count": 161,
   "metadata": {},
   "outputs": [],
   "source": [
    "traffic = filter_by_dates(traffic, START_TRAIN_DATE, END_TRAIN_DATE)"
   ]
  },
  {
   "cell_type": "code",
   "execution_count": 162,
   "metadata": {},
   "outputs": [
    {
     "data": {
      "text/plain": [
       "9     687181\n",
       "14    588486\n",
       "Name: road_id, dtype: int64"
      ]
     },
     "execution_count": 162,
     "metadata": {},
     "output_type": "execute_result"
    }
   ],
   "source": [
    "traffic.road_id.value_counts()"
   ]
  },
  {
   "cell_type": "markdown",
   "metadata": {},
   "source": [
    "Отсутствуют данные по траффику на дороге 5"
   ]
  },
  {
   "cell_type": "code",
   "execution_count": 170,
   "metadata": {},
   "outputs": [],
   "source": [
    "traffic.drop_duplicates(inplace = True)"
   ]
  },
  {
   "cell_type": "code",
   "execution_count": 172,
   "metadata": {},
   "outputs": [
    {
     "data": {
      "text/plain": [
       "1    912019\n",
       "2    304995\n",
       "3     42714\n",
       "4      5314\n",
       "6      5313\n",
       "5      5312\n",
       "Name: lane, dtype: int64"
      ]
     },
     "execution_count": 172,
     "metadata": {},
     "output_type": "execute_result"
    }
   ],
   "source": [
    "traffic.lane.value_counts()"
   ]
  },
  {
   "cell_type": "code",
   "execution_count": 174,
   "metadata": {},
   "outputs": [
    {
     "data": {
      "image/png": "[encoded data removed]",
      "text/plain": [
       "<Figure size 504x504 with 1 Axes>"
      ]
     },
     "metadata": {},
     "output_type": "display_data"
    }
   ],
   "source": [
    "traffic.lane_count.value_counts().plot(kind = 'pie', figsize = (7, 7), autopct='%1.0f%%');"
   ]
  },
  {
   "cell_type": "code",
   "execution_count": 175,
   "metadata": {},
   "outputs": [
    {
     "data": {
      "text/plain": [
       "backward    647450\n",
       "forward     628217\n",
       "Name: direction, dtype: int64"
      ]
     },
     "execution_count": 175,
     "metadata": {},
     "output_type": "execute_result"
    }
   ],
   "source": [
    "traffic.direction.value_counts()"
   ]
  },
  {
   "cell_type": "code",
   "execution_count": 178,
   "metadata": {},
   "outputs": [
    {
     "data": {
      "text/plain": [
       "<AxesSubplot:>"
      ]
     },
     "execution_count": 178,
     "metadata": {},
     "output_type": "execute_result"
    },
    {
     "data": {
      "image/png": "[encoded data removed]",
      "text/plain": [
       "<Figure size 432x288 with 1 Axes>"
      ]
     },
     "metadata": {
      "needs_background": "light"
     },
     "output_type": "display_data"
    }
   ],
   "source": [
    "traffic.loc[traffic.road_id == 9].volume.hist()"
   ]
  },
  {
   "cell_type": "code",
   "execution_count": 179,
   "metadata": {},
   "outputs": [
    {
     "data": {
      "text/plain": [
       "<AxesSubplot:>"
      ]
     },
     "execution_count": 179,
     "metadata": {},
     "output_type": "execute_result"
    },
    {
     "data": {
      "image/png": "[encoded data removed]",
      "text/plain": [
       "<Figure size 432x288 with 1 Axes>"
      ]
     },
     "metadata": {
      "needs_background": "light"
     },
     "output_type": "display_data"
    }
   ],
   "source": [
    "traffic.loc[traffic.road_id == 14].volume.hist()"
   ]
  },
  {
   "cell_type": "code",
   "execution_count": 180,
   "metadata": {},
   "outputs": [
    {
     "data": {
      "text/plain": [
       "<AxesSubplot:>"
      ]
     },
     "execution_count": 180,
     "metadata": {},
     "output_type": "execute_result"
    },
    {
     "data": {
      "image/png": "[encoded data removed]",
      "text/plain": [
       "<Figure size 432x288 with 1 Axes>"
      ]
     },
     "metadata": {
      "needs_background": "light"
     },
     "output_type": "display_data"
    }
   ],
   "source": [
    "traffic.loc[traffic.road_id == 9].speed.hist()"
   ]
  },
  {
   "cell_type": "code",
   "execution_count": 182,
   "metadata": {},
   "outputs": [
    {
     "data": {
      "text/plain": [
       "<AxesSubplot:>"
      ]
     },
     "execution_count": 182,
     "metadata": {},
     "output_type": "execute_result"
    },
    {
     "data": {
      "image/png": "[encoded data removed]",
      "text/plain": [
       "<Figure size 432x288 with 1 Axes>"
      ]
     },
     "metadata": {
      "needs_background": "light"
     },
     "output_type": "display_data"
    }
   ],
   "source": [
    "traffic.loc[traffic.road_id == 14].speed.hist()"
   ]
  },
  {
   "cell_type": "markdown",
   "metadata": {},
   "source": [
    "### Анализ данных об аварийных участках (crash_parts) - Дима Д"
   ]
  },
  {
   "cell_type": "code",
   "execution_count": 183,
   "metadata": {},
   "outputs": [],
   "source": [
    "crash_parts = filter_by_dates(crash_parts, START_TRAIN_DATE, END_TRAIN_DATE)"
   ]
  },
  {
   "cell_type": "code",
   "execution_count": 184,
   "metadata": {},
   "outputs": [
    {
     "name": "stdout",
     "output_type": "stream",
     "text": [
      "<class 'pandas.core.frame.DataFrame'>\n",
      "Int64Index: 164 entries, 0 to 166\n",
      "Data columns (total 12 columns):\n",
      " #   Column           Non-Null Count  Dtype         \n",
      "---  ------           --------------  -----         \n",
      " 0   Unnamed: 0       164 non-null    int64         \n",
      " 1   datetime         164 non-null    datetime64[ns]\n",
      " 2   road_id          164 non-null    int64         \n",
      " 3   road_km          164 non-null    int64         \n",
      " 4   avuch_start      164 non-null    float64       \n",
      " 5   avuch_end        164 non-null    float64       \n",
      " 6   length           164 non-null    int64         \n",
      " 7   avuch_loc        164 non-null    int64         \n",
      " 8   stabchar_type    164 non-null    int64         \n",
      " 9   planactiv_type   164 non-null    int64         \n",
      " 10  planactiv_descr  164 non-null    object        \n",
      " 11  planactiv_year   164 non-null    datetime64[ns]\n",
      "dtypes: datetime64[ns](2), float64(2), int64(7), object(1)\n",
      "memory usage: 16.7+ KB\n"
     ]
    }
   ],
   "source": [
    "crash_parts.info()"
   ]
  },
  {
   "cell_type": "code",
   "execution_count": 185,
   "metadata": {},
   "outputs": [
    {
     "data": {
      "text/html": [
       "<div>\n",
       "<style scoped>\n",
       "    .dataframe tbody tr th:only-of-type {\n",
       "        vertical-align: middle;\n",
       "    }\n",
       "\n",
       "    .dataframe tbody tr th {\n",
       "        vertical-align: top;\n",
       "    }\n",
       "\n",
       "    .dataframe thead th {\n",
       "        text-align: right;\n",
       "    }\n",
       "</style>\n",
       "<table border=\"1\" class=\"dataframe\">\n",
       "  <thead>\n",
       "    <tr style=\"text-align: right;\">\n",
       "      <th></th>\n",
       "      <th>Unnamed: 0</th>\n",
       "      <th>datetime</th>\n",
       "      <th>road_id</th>\n",
       "      <th>road_km</th>\n",
       "      <th>avuch_start</th>\n",
       "      <th>avuch_end</th>\n",
       "      <th>length</th>\n",
       "      <th>avuch_loc</th>\n",
       "      <th>stabchar_type</th>\n",
       "      <th>planactiv_type</th>\n",
       "      <th>planactiv_descr</th>\n",
       "      <th>planactiv_year</th>\n",
       "    </tr>\n",
       "  </thead>\n",
       "  <tbody>\n",
       "    <tr>\n",
       "      <th>0</th>\n",
       "      <td>0</td>\n",
       "      <td>2017-01-01</td>\n",
       "      <td>9</td>\n",
       "      <td>124</td>\n",
       "      <td>124.77</td>\n",
       "      <td>125.74</td>\n",
       "      <td>970</td>\n",
       "      <td>2</td>\n",
       "      <td>3</td>\n",
       "      <td>4</td>\n",
       "      <td>Дублирование дорожных знаков 3.20 «Обгон запрещен» на щитах с флуорисцентной пленкой желто-зеленого цвета. Щит аварийно-опасный участок.</td>\n",
       "      <td>2018-07-01</td>\n",
       "    </tr>\n",
       "    <tr>\n",
       "      <th>1</th>\n",
       "      <td>1</td>\n",
       "      <td>2017-01-01</td>\n",
       "      <td>9</td>\n",
       "      <td>125</td>\n",
       "      <td>124.77</td>\n",
       "      <td>125.74</td>\n",
       "      <td>970</td>\n",
       "      <td>2</td>\n",
       "      <td>3</td>\n",
       "      <td>4</td>\n",
       "      <td>Дублирование дорожных знаков 3.20 «Обгон запрещен» на щитах с флуорисцентной пленкой желто-зеленого цвета. Щит аварийно-опасный участок.</td>\n",
       "      <td>2018-07-01</td>\n",
       "    </tr>\n",
       "    <tr>\n",
       "      <th>2</th>\n",
       "      <td>2</td>\n",
       "      <td>2017-01-01</td>\n",
       "      <td>9</td>\n",
       "      <td>131</td>\n",
       "      <td>131.88</td>\n",
       "      <td>132.77</td>\n",
       "      <td>890</td>\n",
       "      <td>2</td>\n",
       "      <td>3</td>\n",
       "      <td>4</td>\n",
       "      <td>Щит аварийно-опасный участок. В 2018 году будет проводиться мониторинг  состояния аварийности, разработка и реализация дополнительных мероприятий по БДД, будет выполнена по мере необходимости;</td>\n",
       "      <td>2018-03-01</td>\n",
       "    </tr>\n",
       "    <tr>\n",
       "      <th>3</th>\n",
       "      <td>3</td>\n",
       "      <td>2017-01-01</td>\n",
       "      <td>9</td>\n",
       "      <td>132</td>\n",
       "      <td>131.88</td>\n",
       "      <td>132.77</td>\n",
       "      <td>890</td>\n",
       "      <td>2</td>\n",
       "      <td>3</td>\n",
       "      <td>4</td>\n",
       "      <td>Щит аварийно-опасный участок. В 2018 году будет проводиться мониторинг  состояния аварийности, разработка и реализация дополнительных мероприятий по БДД, будет выполнена по мере необходимости;</td>\n",
       "      <td>2018-03-01</td>\n",
       "    </tr>\n",
       "    <tr>\n",
       "      <th>4</th>\n",
       "      <td>4</td>\n",
       "      <td>2017-01-01</td>\n",
       "      <td>9</td>\n",
       "      <td>145</td>\n",
       "      <td>145.10</td>\n",
       "      <td>145.80</td>\n",
       "      <td>700</td>\n",
       "      <td>2</td>\n",
       "      <td>1</td>\n",
       "      <td>4</td>\n",
       "      <td>Установлен щит «Аварийно-опасный участок». Изменение режима работы светофорного объекта, проработать вопрос устройства искусственного освещения на перекрестке.</td>\n",
       "      <td>2018-09-01</td>\n",
       "    </tr>\n",
       "  </tbody>\n",
       "</table>\n",
       "</div>"
      ],
      "text/plain": [
       "   Unnamed: 0   datetime  road_id  road_km  avuch_start  avuch_end  length  \\\n",
       "0           0 2017-01-01        9      124       124.77     125.74     970   \n",
       "1           1 2017-01-01        9      125       124.77     125.74     970   \n",
       "2           2 2017-01-01        9      131       131.88     132.77     890   \n",
       "3           3 2017-01-01        9      132       131.88     132.77     890   \n",
       "4           4 2017-01-01        9      145       145.10     145.80     700   \n",
       "\n",
       "   avuch_loc  stabchar_type  planactiv_type  \\\n",
       "0          2              3               4   \n",
       "1          2              3               4   \n",
       "2          2              3               4   \n",
       "3          2              3               4   \n",
       "4          2              1               4   \n",
       "\n",
       "                                                                                                                                                                                    planactiv_descr  \\\n",
       "0                                                          Дублирование дорожных знаков 3.20 «Обгон запрещен» на щитах с флуорисцентной пленкой желто-зеленого цвета. Щит аварийно-опасный участок.   \n",
       "1                                                          Дублирование дорожных знаков 3.20 «Обгон запрещен» на щитах с флуорисцентной пленкой желто-зеленого цвета. Щит аварийно-опасный участок.   \n",
       "2  Щит аварийно-опасный участок. В 2018 году будет проводиться мониторинг  состояния аварийности, разработка и реализация дополнительных мероприятий по БДД, будет выполнена по мере необходимости;   \n",
       "3  Щит аварийно-опасный участок. В 2018 году будет проводиться мониторинг  состояния аварийности, разработка и реализация дополнительных мероприятий по БДД, будет выполнена по мере необходимости;   \n",
       "4                                   Установлен щит «Аварийно-опасный участок». Изменение режима работы светофорного объекта, проработать вопрос устройства искусственного освещения на перекрестке.   \n",
       "\n",
       "  planactiv_year  \n",
       "0     2018-07-01  \n",
       "1     2018-07-01  \n",
       "2     2018-03-01  \n",
       "3     2018-03-01  \n",
       "4     2018-09-01  "
      ]
     },
     "execution_count": 185,
     "metadata": {},
     "output_type": "execute_result"
    }
   ],
   "source": [
    "crash_parts.head()"
   ]
  },
  {
   "cell_type": "code",
   "execution_count": 186,
   "metadata": {},
   "outputs": [
    {
     "data": {
      "text/plain": [
       "1. Установить щиты аварийно-опасный участок.\\n2. Установка стационарного комплекса автоматической фиксации нарушений ПДД.\\n3. Рассмотреть вопрос устройства шумовых полос.                                                                                                                                                                                                                                                                                                                                                                                                                                                                                                                                                                                                                                                                                                                                                                                                                                                                                                            4\n",
       "Установка д.знаков 1.34.1 и 1.34.2 «Направление поворота» на флуоресцентной основе. Устройство шумовых полос.                                                                                                                                                                                                                                                                                                                                                                                                                                                                                                                                                                                                                                                                                                                                                                                                                                                                                                                                                                         3\n",
       "Щит аварийно-опасный участок.                                                                                                                                                                                                                                                                                                                                                                                                                                                                                                                                                                                                                                                                                                                                                                                                                                                                                                                                                                                                                                                         3\n",
       "ввод в эксплуатацию объекта (дополнительных мероприятий не требуется, все ДТП в местах производства работ)                                                                                                                                                                                                                                                                                                                                                                                                                                                                                                                                                                                                                                                                                                                                                                                                                                                                                                                                                                            3\n",
       "1. Устройство искусственного освещения на подходах к примыканию и самого примыкания. \\n2. Снижение скоростного режима до 70 км/ч. \\n3. Установка стационарного комплекса автоматической фиксации нарушений ПДД.\\n4. Рассмотреть возможность устройства (продление) тросового ограждения на участках: км 219+440 – км 219+745 и км 219+800 – км  220+020\\n5. Установить щиты аварийно-опасный участок.                                                                                                                                                                                                                                                                                                                                                                                                                                                                                                                                                                                                                                                                                 2\n",
       "Нанесение горизонтальной разметки долговечными материалами (холодный пластик) шириной 0,15м по оси, устройство шумовых полос, установка д/знаков 1.34.1 (2), Внесение изменений в ПОДД в части запрещения обгона с установкой д/знаков 3.20, 3.21 и нанесением соответствующей горизонтальной разметки 1.1.                                                                                                                                                                                                                                                                                                                                                                                                                                                                                                                                                                                                                                                                                                                                                                           2\n",
       "Установлены специальные предупреждающие щиты об аварийном участке, заменены знаки 2.4 «Уступить дорогу» на знаки увеличенного типоразмера 2.5 «Движение без остановки запрещено» на флуоресцентном фоне, выполнено нанесение дорожной разметки долговечными материалами. Устройство шумовых полос на выездах с второстепенных дорог.                                                                                                                                                                                                                                                                                                                                                                                                                                                                                                                                                                                                                                                                                                                                                  2\n",
       "Щит аварийно-опасный участок. Капитальный ремонт автомобильной дороги М-8\" Холмогоры\" Москва -Ярославль - Вологда - Архангельск научастке км 201+800 - км 214+000, устройство искусственного освещения в рамках капитального  ремонта.                                                                                                                                                                                                                                                                                                                                                                                                                                                                                                                                                                                                                                                                                                                                                                                                                                                2\n",
       "Щит аварийно-опасный участок. Устройство тросового ограждения по оси проезжей части.                                                                                                                                                                                                                                                                                                                                                                                                                                                                                                                                                                                                                                                                                                                                                                                                                                                                                                                                                                                                  2\n",
       " Установка сигнальных столбиков. Установка д.знака 2.4 на флуорисцентной основе. Устройство шумовых полос. Установка камеры фото-видеофиксации нарушений ПДД. Установка аншлага \"Аварийно-опасный участок\" / в долгосрочном - Устройство светофорного объекта (с ПИР), Устройство наружного освещения примыкания (с ПИР).                                                                                                                                                                                                                                                                                                                                                                                                                                                                                                                                                                                                                                                                                                                                                             2\n",
       "Щит аварийно-опасный участок установлен. В 2017 году выполнено устройство шумовых полос перед опасными участками.                                                                                                                                                                                                                                                                                                                                                                                                                                                                                                                                                                                                                                                                                                                                                                                                                                                                                                                                                                     2\n",
       "Выполнить замену дорожного знака 4.1.1 «Движение прямо» на км 22+562 (слева) на дорожный знак 3.18.2 «Движение налево запрещено» на щите со световозвращающей флуоресцентной пленкой желто-зеленого цвета. Установлен щит «Аварийно-опасный участок», и камеры автоматической фиксации нарушений ПДД. Участок Оборудован ящиком для установки устройства КРИС-П.                                                                                                                                                                                                                                                                                                                                                                                                                                                                                                                                                                                                                                                                                                                      2\n",
       "1. Рассмотреть возможность установки контроля средней скорости между комплексами СФК на участке км 23+905 - км 25+765.  \\n2. Устройство недостающего освещения на подъездах к пешеходному переходу в соответствии с требованиями п.6.2.15 ГОСТ 32944-2014.\\n3.Устройство поперечных шумовых полос перед опасным участком.\\n4. Установить светофорный объект с кнопкой вызова пешеходом на нерегулируемом пешеходном переходе км 25+641.\\n5. Светодиодная подсветка светофора.\\n6. Установка перильного ограждения по ГОСТ Р 52289-2004.                                                                                                                                                                                                                                                                                                                                                                                                                                                                                                                                               2\n",
       "1. Установить светофорный объект с кнопкой вызова пешеходом и светодиодной подсветкой  на нерегулируемом пешеходном переходе на км 475+864. \\n2. Установить перильное ограждение, общей протяженностью 200м.\\n3. Ограничить скоростной режим до 70 км/ч и установить камеры автоматической фиксации нарушений ПДД.\\n4. Обустроить шумовые полосы на подходах к опасному участку.\\n5. Выполнить установку недостающего искусственного освещения.\\n6. Установить щиты аварийно-опасный участок.                                                                                                                                                                                                                                                                                                                                                                                                                                                                                                                                                                                         2\n",
       "В 2018 году выполнен ремонт моста ч/з  р. Кубря. Установить щиты «Аварийно-опасный участок». Рассмотреть возможность обустройства подходов к опасному участку  шумовыми полосами. Выполнить дублирование дорожных знаков 3.20 «Обгон запрещен» на щитах с флуоресцентной пленкой желто-зеленого цвета».                                                                                                                                                                                                                                                                                                                                                                                                                                                                                                                                                                                                                                                                                                                                                                               2\n",
       "1 квартал 2018г - Ограничение скоростного режима до 70 км/ч ввиду наличия колейности проезжей части; 2 квартал 2018 – устранение колейности проезжей части.                                                                                                                                                                                                                                                                                                                                                                                                                                                                                                                                                                                                                                                                                                                                                                                                                                                                                                                           2\n",
       "Устройство стационарного искусственного освещения пешеходного перехода и автобусной остановки.                                                                                                                                                                                                                                                                                                                                                                                                                                                                                                                                                                                                                                                                                                                                                                                                                                                                                                                                                                                        2\n",
       "Щит аварийно-опасный участок.                                                                                                                                                                                                                                                                                                                                                                                                                                                                                                                                                                                                                                                                                                                                                                                                                                                                                                                                                                                                                                                         2\n",
       "Устройство искусственного освещения. Заданием предусмотрено освещение участка км 251 – км 256. Рассмотреть возможность установки металлического барьерного ограждения на разделительной полосе                                                                                                                                                                                                                                                                                                                                                                                                                                                                                                                                                                                                                                                                                                                                                                                                                                                                                        2\n",
       "1. Рассмотреть возможность установки знаков 5.14 \"Полоса для маршрутных транспортных средств\".\\n2. Демонтировать пешеходный переход. \\n3. Устройство искусственного освещения остановочного комплекса км 21+520\\n4. Настроить стационарные комплексы км 20+529 – км 23+950 на контроль средней скорости.                                                                                                                                                                                                                                                                                                                                                                                                                                                                                                                                                                                                                                                                                                                                                                              2\n",
       "Стационарный комплекс автоматической фиксации нарушений ПДД.\\n2. Установить щиты аварийно-опасный участок.\\n3. Ограничение скорости до 70 км/ч.\\n4. Светодиодная подсветка светофора.                                                                                                                                                                                                                                                                                                                                                                                                                                                                                                                                                                                                                                                                                                                                                                                                                                                                                                 2\n",
       "Изменение (оптимизация) режима работы светофорных объектов, устройство шумовых полос, установка импульсных дорожных знаков в местах разделения транспортных потоков. Строительство светофорного объекта с кнопкой вызова на пешеходном переходе (ул. Авиаторов).                                                                                                                                                                                                                                                                                                                                                                                                                                                                                                                                                                                                                                                                                                                                                                                                                      2\n",
       "Щит аварийно-опасный участок. Дублирование дорожных знаков 3.20 «Обгон запрещен» на щитах с флуорисцентной пленкой желто-зеленого цвета.                                                                                                                                                                                                                                                                                                                                                                                                                                                                                                                                                                                                                                                                                                                                                                                                                                                                                                                                              2\n",
       "Выполнен ремонт моста, срок окончания работ – декабрь 2018 года. Установить щиты «Аварийно-опасный участок».                                                                                                                                                                                                                                                                                                                                                                                                                                                                                                                                                                                                                                                                                                                                                                                                                                                                                                                                                                          2\n",
       "Увеличение зоны запрещения обгона транспортных средств. Установка дублирующих знаков 3.20 «Обгон запрещен» на флуоресцентном фоне. Внесение изменений в ПОДД. Щит «Аварийно-опасный участок». Исключение левого поворота на АЗС.                                                                                                                                                                                                                                                                                                                                                                                                                                                                                                                                                                                                                                                                                                                                                                                                                                                      2\n",
       "Дублирование дорожных знаков 3.20 «Обгон запрещен» на щитах с флуорисцентной пленкой желто-зеленого цвета. Щит аварийно-опасный участок.                                                                                                                                                                                                                                                                                                                                                                                                                                                                                                                                                                                                                                                                                                                                                                                                                                                                                                                                              2\n",
       "Установить щиты «Аварийно-опасный участок». Дорожные знаки 3.20 «Обгон запрещен» установить на щитах с флуоресцентной пленкой желто-зеленого цвета» и выполнить их дублирование с левой стороны дороги.                                                                                                                                                                                                                                                                                                                                                                                                                                                                                                                                                                                                                                                                                                                                                                                                                                                                               2\n",
       "1. Установить светофорный объект с кнопкой вызова пешеходом и светодиодной подсветкой  на нерегулируемом пешеходном переходе на км 497+029. \\n2. Установить дорожные знаки 3.24 «Ограничение максимальной скорости до 70 км/ч» и камеры автоматической фиксации нарушений ПДД.\\n3. Выполнить устройство шумовых полос на подходах к опасному участку.\\n4. Заменить дорожный знак 2.4 «Уступите дорогу» на дорожный знак 2.5 «Движение без остановки запрещено». \\n5. Установка Г-образных опор на нерегулируемом пешеходном переходе на второстепенной дороге.\\n6. Установка недостающего искусственного освещения.\\n7.    Установить щиты аварийно-опасный участок.                                                                                                                                                                                                                                                                                                                                                                                                                  2\n",
       "В рамках капитального ремонта предусмотреть устройство переходно-скоростных полос и наружного освещения.                                                                                                                                                                                                                                                                                                                                                                                                                                                                                                                                                                                                                                                                                                                                                                                                                                                                                                                                                                              2\n",
       "Контроль за зимним содержанием. Проработать на комиссии по БДД варианты изменения организации дорожного движения на примыканиях.                                                                                                                                                                                                                                                                                                                                                                                                                                                                                                                                                                                                                                                                                                                                                                                                                                                                                                                                                      2\n",
       "Установить щиты «Аварийно-опасный участок». В период 2018 года выполнены работы по устранению колейности и дефектов проезжей части. В рамках дополнительных мероприятий, направленных на обеспечение безопасности дорожного движения на  опасных участках предусмотрено нанесение горизонтальной разметки 1.19 по оси проезжей. Установить дорожные знаки 3.20 «Обгон запрещен» на щитах со световозвращающей флуоресцентной пленкой желто-зеленого цвета. Выполнить дублирование дорожных знаков 3.20 «Обгон запрещен» с левой стороны дороги.                                                                                                                                                                                                                                                                                                                                                                                                                                                                                                                                       2\n",
       "Выполнить освещение пешеходного перехода и автобусной остановки. Установить щиты «Аварийно-опасный участок».\\nНа участках км 21+838 справа, км 20+654 справа, км 21+143 справа, км 22+570 справа\\nустановить дорожные знаки 3.20 «Обгон запрещен» на щитах со световозвращающей флуоресцентной пленкой.\\n                                                                                                                                                                                                                                                                                                                                                                                                                                                                                                                                                                                                                                                                                                                                                                             2\n",
       " Установить щиты «Аварийно-опасный участок». В ноябре 2018 года установлены камеры автоматической фиксации нарушений ПДД (км 253+080 справа и км 253+250 (слева). Долговременные мероприятия - устройство пешеходного перехода в разных уровнях.                                                                                                                                                                                                                                                                                                                                                                                                                                                                                                                                                                                                                                                                                                                                                                                                                                      2\n",
       "1. Установка стационарного комплекса автоматической фиксации нарушений ПДД.\\n2. Ограничение скорости до 70 км/ч, устройство шумовых полос.\\n3. Установка кнопки дистанционного управления светофором с поста ДПС.\\n4. Светодиодная подсветка светофора.\\n5. Установить щиты аварийно-опасный участок.\\n6. Проработать вопрос устройства перекрестка с круговым движением.\\n                                                                                                                                                                                                                                                                                                                                                                                                                                                                                                                                                                                                                                                                                                           2\n",
       "1. Установить щиты аварийно-опасный участок.\\n2. Ограничение скорости до 70 км/ч.\\n3. Дублирование дорожных знаков 3.20 «Обгон запрещен» и размещение их на щитах с флуоресцентной пленкой желто-зеленого цвета.\\n4. Установить Г-образные опоры на пешеходном переходе.\\n5. Рассмотреть вопрос устройства дополнительного освещения на пешеходном переходе и примыкании к федеральной автомобильной дороге.\\n6. Рассмотреть вопрос устройства сигнальных столбиков по оси проезжей части.                                                                                                                                                                                                                                                                                                                                                                                                                                                                                                                                                                                            2\n",
       "Капитальный ремонт участка км 503+500 –  км 510+000, разработка мероприятий на стадии рабочей документации, освещение переходно-скоростных полос АЗС «Энтиком», приведение геометрии дороги в районе АЗС в нормативное состояние.                                                                                                                                                                                                                                                                                                                                                                                                                                                                                                                                                                                                                                                                                                                                                                                                                                                     2\n",
       "1. Установить щиты аварийно-опасный участок.\\n2. Установка стационарного комплекса автоматической фиксации нарушений ПДД (контроль проезда на красный сигнал светофора).\\n3. Изменение режима работы светофора с установкой дополнительной секции для поворота налево при движении в прямом направлении. Выделение отдельной полосы для поворота налево.\\n4. Рассмотреть вопрос устройства шумовых полос.\\n5. Проработать вопрос изменения режима светофорного объекта при проектировании подземного пешеходного перехода.                                                                                                                                                                                                                                                                                                                                                                                                                                                                                                                                                            2\n",
       "1.Устройство искусственного электроосвещения на мостовом переходе через р. Юрос и  на примыкании к а/д «Подъезд к н.п. Нефтебаза».\\n2. Реконструкция перекрестка, организация кольцевого движения. \\n                                                                                                                                                                                                                                                                                                                                                                                                                                                                                                                                                                                                                                                                                                                                                                                                                                                                                 2\n",
       "Щит аварийно-опасный участок. В 2018 году будет проводиться мониторинг  состояния аварийности, разработка и реализация дополнительных мероприятий по БДД, будет выполнена по мере необходимости;                                                                                                                                                                                                                                                                                                                                                                                                                                                                                                                                                                                                                                                                                                                                                                                                                                                                                      2\n",
       "устройство двух уровневой развязки                                                                                                                                                                                                                                                                                                                                                                                                                                                                                                                                                                                                                                                                                                                                                                                                                                                                                                                                                                                                                                                    2\n",
       "1. Установить щиты аварийно-опасный участок.\\n2. Установить ограничение скоростного режима до 70 км/ч.                                                                                                                                                                                                                                                                                                                                                                                                                                                                                                                                                                                                                                                                                                                                                                                                                                                                                                                                                                                2\n",
       "1. Стационарный комплекс автоматической фиксации нарушений ПДД.\\n2. Установить щиты аварийно-опасный участок.\\n3. Ограничение скорости до 70 км/ч.\\n4. Светодиодная подсветка светофора.\\n5. Рассмотреть вопрос изменения режима работы светофорного объекта.                                                                                                                                                                                                                                                                                                                                                                                                                                                                                                                                                                                                                                                                                                                                                                                                                         2\n",
       "Нанесение горизонтальной разметки долговечными материалами (холодный пластик) шириной 0,15м по оси. Требуется устройство стационарного электрического освещения на участке км 1257+600 - км 1265+000 (г. Мончегорск) (ПИР утвержден, необходимо включение в ФАИП.                                                                                                                                                                                                                                                                                                                                                                                                                                                                                                                                                                                                                                                                                                                                                                                                                     2\n",
       "1. Установка передвижного комплекса автоматической фиксации нарушений ПДД.\\n2. Установить щиты аварийно-опасный участок.\\n                                                                                                                                                                                                                                                                                                                                                                                                                                                                                                                                                                                                                                                                                                                                                                                                                                                                                                                                                            2\n",
       "1.Устройство поперечных шумовых полос перед пешеходным переходом. Срок исполнения – не позднее 30.06.2021\\n3. Установить светофорный объект с кнопкой вызова пешеходом на нерегулируемом пешеходном переходе км 27+605. Срок исполнения – по мере выделения бюджетных средств.\\n4. Установка щитов аварийно-опасный участок, мониторинг аварийности. Срок исполнения – не позднее 01.06.2021\\n5. Изменение ОДД (исключить сквозное движение ТС по ПСП). Срок исполнения – не позднее 30.06.2021                                                                                                                                                                                                                                                                                                                                                                                                                                                                                                                                                                                       2\n",
       "1. Проработать вопрос по переносу комплекса СКФВК с км 23+905 на примыкание км 24+420, в целях пресечения нарушений, связанных с выездом на полосу встречного движения, превышения скорости ТС. Срок исполнения – по мере выделения бюджетных средств. \\n2. Применение разметки 1.24.2. для дублирования дорожных знаков 3.20 «Обгон запрещен». Срок исполнения – не позднее 30.06.2021\\n3. Установка щитов аварийно-опасный участок. Срок исполнения – не позднее 01.06.2021                                                                                                                                                                                                                                                                                                                                                                                                                                                                                                                                                                                                         2\n",
       "Установка перед примыканием км 146+220 дорожных знаков 3.24 «Ограничение максимальной скорости до 70 км/ч» и камер автоматической фиксации нарушений ПДД (муляжи). Устройство шумовых полос. Установка щита «Аварийно-опасный участок». В рамках долгосрочных мероприятий рассмотреть возможность устройства ПСП для левого поворота в н.п. «Красная деревня». Рассмотреть вопрос устройства искусственного освещения.                                                                                                                                                                                                                                                                                                                                                                                                                                                                                                                                                                                                                                                                2\n",
       "Установить щит аварийно-опасный участок. \\nРемонт участка км 254+000 – км 256+300, срок окончания работ -  2019 год.\\n                                                                                                                                                                                                                                                                                                                                                                                                                                                                                                                                                                                                                                                                                                                                                                                                                                                                                                                                                                2\n",
       "1. Установить щиты аварийно-опасный участок.\\n2. Ввести ограничения скоростного режима до 70 км/ч.\\n3. Дублирование дорожных знаков 3.20 «Обгон запрещен» и размещение их на щитах с флуоресцентной пленкой желто-зеленого цвета.\\n4. УГИБДД совместно с ФКУ Упрдор «Холмогоры проработать вопрос с собственником объекта придорожного сервиса по вопросу устройства переходных скоростных полос и дополнительного наружного освещения.                                                                                                                                                                                                                                                                                                                                                                                                                                                                                                                                                                                                                                               2\n",
       "1. Установить щиты аварийно-опасный участок.\\n2. Ввести ограничения скоростного режима до 70 км/ч\\n3. Дублирование дорожных знаков 3.20 «Обгон запрещен» и размещение их на щитах с флуоресцентной пленкой желто-зеленого цвета.\\n4. Установить сигнальные столбики до и после пешеходного перехода на расстоянии 50 метров. \\n5. Установить Г-образные опоры на пешеходном переходе.                                                                                                                                                                                                                                                                                                                                                                                                                                                                                                                                                                                                                                                                                                 2\n",
       "В 2017 году увеличены зоны запрещения стоянки ТС в зоне АЗС, установлена камера автоматической фиксации нарушения ПДД. Введение местного ограничения скоростного режима до 60 км/ч. Установка щита «Аварийно-опасный участок».                                                                                                                                                                                                                                                                                                                                                                                                                                                                                                                                                                                                                                                                                                                                                                                                                                                        2\n",
       "1. Установка передвижного комплекса автоматической фиксации нарушений ПДД.\\n2. Установить щиты аварийно-опасный участок.                                                                                                                                                                                                                                                                                                                                                                                                                                                                                                                                                                                                                                                                                                                                                                                                                                                                                                                                                              2\n",
       "Щит аварийно-опасный участок. Устройство искусственного освещения при наличии финансирования. Проработать вопрос кап. ремонта моста.                                                                                                                                                                                                                                                                                                                                                                                                                                                                                                                                                                                                                                                                                                                                                                                                                                                                                                                                                  1\n",
       "Установить щиты «Аварийно-опасный участок». Разработана проектная документация по устройству кольцевого пересечения. Планируемые сроки реализации 2019-2020гг.                                                                                                                                                                                                                                                                                                                                                                                                                                                                                                                                                                                                                                                                                                                                                                                                                                                                                                                        1\n",
       "1. Установка комплексов автоматической фиксации нарушений ПДД.\\n2. Установить щиты аварийно-опасный участок.\\n3. Рассмотреть вопрос устройства шумовых полос, с ограничением скоростного режима.                                                                                                                                                                                                                                                                                                                                                                                                                                                                                                                                                                                                                                                                                                                                                                                                                                                                                      1\n",
       "Модернизация светофорного объекта. Устройство шумовых полос.                                                                                                                                                                                                                                                                                                                                                                                                                                                                                                                                                                                                                                                                                                                                                                                                                                                                                                                                                                                                                          1\n",
       "Устройство шумовых полос, ступенчатое снижение скорости до 50 км/ч. В рамках долгосрочных мероприятий (капитальный ремонт участка) устройство дополнительных полос для обеспечения поворотов. Рассмотреть вопрос об устройстве наружного освещения.                                                                                                                                                                                                                                                                                                                                                                                                                                                                                                                                                                                                                                                                                                                                                                                                                                   1\n",
       "\\nОграничить скоростной режим до 50 км/ч по автомобильной дороге М-8 «Холмогоры», перенастроить камеры автоматической фиксации нарушений ПДД.\\nУстановить щиты «Аварийно-опасный участок» по федеральной дороге и въездах на кольцевое пересечение по региональным дорогам. Дополнительно, на въезде со второстепенной дороги, установить информационный щит с информацией о необходимости повышения внимания водителей при проезде перекрестка\\n                                                                                                                                                                                                                                                                                                                                                                                                                                                                                                                                                                                                                                     1\n",
       "Установить щиты «Аварийно-опасный участок». Запретить обгон транспортных средств на участке км 122+200 – 122+620, дорожные знаки 3.20 «Обгон запрещен» установить на щитах с флуоресцентной пленкой желто-зеленого цвета» и продублировать слева. Внести изменения в проект организации дорожного движения.                                                                                                                                                                                                                                                                                                                                                                                                                                                                                                                                                                                                                                                                                                                                                                           1\n",
       "1. На Т-образном перекрестке (вблизи зоопарка спуск со СВОДа) установить 2 стационарных комплекса автоматической фиксации нарушений ПДД (проезд на красный сигнал светофора и фиксация скоростного режима). \\n2. Установить ограничение скоростного режима до 70 км/ч. 3. Рассмотреть вопрос устройства на светофорном объекте обратного отсчета времени.                                                                                                                                                                                                                                                                                                                                                                                                                                                                                                                                                                                                                                                                                                                             1\n",
       "Устройство искусственного освещения (в том числе примыкания на Иваново) при условии выделения денежных средств из федерального бюджета. Рассмотреть возможность устройства пешеходных дорожек. Дополнительная установка тросового ограждения. Щит «Аварийно-опасный участок».                                                                                                                                                                                                                                                                                                                                                                                                                                                                                                                                                                                                                                                                                                                                                                                                         1\n",
       "Щит аварийно-опасный участок установлен. Установка осевых дорожных ограждений в районе ж/д переезда (д. Кузнечиха) и производственного предприятия «Олимпик».                                                                                                                                                                                                                                                                                                                                                                                                                                                                                                                                                                                                                                                                                                                                                                                                                                                                                                                         1\n",
       "1. Применить структурную горизонтальную дорожную разметку 1.2.\\n2. Контроль средней скорости (комплекс автоматической фиксации нарушений ПДД).\\n3. Установить щиты аварийно-опасный участок.                                                                                                                                                                                                                                                                                                                                                                                                                                                                                                                                                                                                                                                                                                                                                                                                                                                                                          1\n",
       "1.Лабораторная диагностика колейности покрытия проезжей части на участке км 19+900 – км 30+000, устранение дефектов покрытия превышающих нормативные значения, введение временных ограничений. Срок исполнения – по мере выделения бюджетных средств.\\n2. Установка щитов аварийно-опасный участок, мониторинг аварийности. Срок исполнения – не позднее 01.06.2021\\n                                                                                                                                                                                                                                                                                                                                                                                                                                                                                                                                                                                                                                                                                                                 1\n",
       "1. В рамках ПИРов по капитальному ремонту  предусмотреть перенос автобусных остановок  и размещение их в соответствии с требованиями нормативных документов.\\n2. Рассмотреть возможность изменения ОДД в пределах кольцевого пересечения (убрать транзитный транспорт из левой полосы для исключения попутного перестроения – островки безопасности в разметке)\\n                                                                                                                                                                                                                                                                                                                                                                                                                                                                                                                                                                                                                                                                                                                     1\n",
       "1. Установить щиты аварийно-опасный участок.\\n2. Установка стационарного комплекса автоматической фиксации нарушений ПДД.\\n3. Нанесение шумовых полос.\\n4. Проведение капитального ремонта в 2021-2022 г.г., включающего устройство переходно-скоростных полос при условии выделения финансирования.\\n5. Выполнить устройство светофорного объекта на перекрестке в рамках капитального ремонта.\\n6. Рассмотреть возможность установки тросового ограждения по оси проезжей части в рамках капитального ремонта.                                                                                                                                                                                                                                                                                                                                                                                                                                                                                                                                                                      1\n",
       "1. Установить щиты аварийно-опасный участок.\\n2. Установка стационарного комплекса автоматической фиксации нарушений ПДД.\\n3. Дублирование дорожных знаков 3.20 «Обгон запрещен» и размещение их на щитах с флуоресцентной пленкой желто-зеленого цвета.\\n4. Рассмотреть вопрос установки сигнальных столбиков перед перекрестком на расстоянии 50 метров со стороны г. Москвы.                                                                                                                                                                                                                                                                                                                                                                                                                                                                                                                                                                                                                                                                                                       1\n",
       "1. Устройство на данном участке светофорного объекта с кнопкой вызова пешеходом;\\n2. Устройство искусственных неровностей перед нерегулируемым перекрестком со стороны второстепенной дороги.\\n3. Установка дополнительного искусственного освещения в пределах перекрестка.\\n4. Установка перильного ограждения по ГОСТ Р 52289-2004.\\n5. Перенос пешеходного перехода в границы перекрестка.\\n6. Светодиодная подсветка светофора.\\n7. Установка Г-образных опор для размещения знаков 5.19.1 «Пешеходный переход» над проезжей частью.\\n8. Установить щиты аварийно-опасный участок.                                                                                                                                                                                                                                                                                                                                                                                                                                                                                               1\n",
       "Работы по капитальному ремонту моста окончены в октябре 2018 года. Установить щиты «Аварийно-опасный участок».                                                                                                                                                                                                                                                                                                                                                                                                                                                                                                                                                                                                                                                                                                                                                                                                                                                                                                                                                                        1\n",
       "1. Обустроить светофорный объект на км 5+450 на пересечениях и примыканиях.\\n2. Установить ограничивающие пешеходные ограждения на участке с км  5+400 – км 5+500.\\n\\n\\n\\n\\n\\n\\n                                                                                                                                                                                                                                                                                                                                                                                                                                                                                                                                                                                                                                                                                                                                                                                                                                                                                                      1\n",
       "1. Устранение колейности и дефектов проезжей части.\\n2. В зависимости от интенсивности движения транспортных средств на перекрестке изменить направления движения по полосам. Модернизация светофорного объекта.\\n                                                                                                                                                                                                                                                                                                                                                                                                                                                                                                                                                                                                                                                                                                                                                                                                                                                                    1\n",
       "1. Установить щиты аварийно-опасный участок.\\n2. Установка стационарного комплекса автоматической фиксации нарушений ПДД (контроль проезда на красный сигнал светофора).\\n3. Рассмотреть вопрос дополнительного удаления стоп-линии от светофорного объекта с учетом п. 6.2.14 ГОСТ Р52289-2019.\\n4. Рассмотреть вопрос установки сигнальных столбиков до и после перекрестка на расстоянии  50 метров.\\n5. Рассмотреть вопрос изменения режима работы светофорного объекта.                                                                                                                                                                                                                                                                                                                                                                                                                                                                                                                                                                                                          1\n",
       "1. Установить щиты аварийно-опасный участок. Срок исполнения – не позднее 01.06.2021 \\n2. Устройство светофорного объекта. Срок исполнения – по мере выделения бюджетных средств.\\n3. Устройство наружного освещения. Срок исполнения – по мере выделения бюджетных средств.                                                                                                                                                                                                                                                                                                                                                                                                                                                                                                                                                                                                                                                                                                                                                                                                          1\n",
       "Ступенчатое снижение скорости до 50 км/ч. Щит «Аварийно-опасный участок», замена знаков 2.4 «Уступите дорогу» на знаки 2.5 «Движение без остановки запрещено»,  применение дорожной разметки 1.13 «Стоп-линия». Устройство шумовых полос. Искусственное освещение пересечения при условии выделения средств из федерального бюджета.                                                                                                                                                                                                                                                                                                                                                                                                                                                                                                                                                                                                                                                                                                                                                  1\n",
       "1.Установить щиты аварийно-опасный участок.\\n2. Установка стационарного комплекса автоматической фиксации нарушений ПДД в н.п. Муравино с правой стороны а/д дороги.\\n3. Рассмотреть возможность установки тросового ограждения на участке км 288+060 – км 288+700 по оси проезжей части\\n4. Рассмотреть вопрос ликвидации пешеходного перехода на участке км 288+406 – км 288+410.                                                                                                                                                                                                                                                                                                                                                                                                                                                                                                                                                                                                                                                                                                   1\n",
       "Устройство светофорного объекта и наружного освещения при условии выделения денежных средств из федерального бюджета.                                                                                                                                                                                                                                                                                                                                                                                                                                                                                                                                                                                                                                                                                                                                                                                                                                                                                                                                                                 1\n",
       "Устройство искусственного освещения (совместно с предыдущим участком), при условии выделения денежных средств из федерального бюджета. Установка тросового ограждения. Щит «Аварийно-опасный участок».                                                                                                                                                                                                                                                                                                                                                                                                                                                                                                                                                                                                                                                                                                                                                                                                                                                                                1\n",
       "1. Установка стационарного комплекса автоматической фиксации нарушений ПДД (контроль проезда на красный сигнал светофора на Т-образном перекрестке вблизи зоопарка).\\n2. Установка стационарного комплекса автоматической фиксации нарушений ПДД на перекрестке с а/д Ярославль - Лесные поляны\\n3. Увеличение времени запрещающего сигнала светофора в обоих направлениях на Т-образном перекрестке вблизи зоопарка, при наличии технической возможности. \\n4. Заменить светофорный объект на Т-образном перекрестке вблизи зоопарка при условии выделения финансирования.\\n5. Установка дополнительной системы световой сигнализации.                                                                                                                                                                                                                                                                                                                                                                                                                                               1\n",
       "Установить щиты «Аварийно-опасный участок». Рассмотреть возможность установки дорожных знаков 3.16 «Ограничение минимальной дистанции» на щитах со световозвращающей флуорисцентной пленкой желто-зеленого цвета.                                                                                                                                                                                                                                                                                                                                                                                                                                                                                                                                                                                                                                                                                                                                                                                                                                                                     1\n",
       "Работы по капитальному ремонту моста окончены в ноябре 2018 года. Установить щиты «Аварийно-опасный участок».                                                                                                                                                                                                                                                                                                                                                                                                                                                                                                                                                                                                                                                                                                                                                                                                                                                                                                                                                                         1\n",
       "1. Ввести ограничения скоростного режима до 70 км/ч на участке км 122+000 – км 122+700. Внести изменения в ПОДД. \\n2. Установка передвижного комплекса автоматической фиксации нарушений ПДД.\\n3. Установить щиты аварийно-опасный участок.                                                                                                                                                                                                                                                                                                                                                                                                                                                                                                                                                                                                                                                                                                                                                                                                                                           1\n",
       "В 2018г. установлена камера автоматической фиксации нарушений ПДД. \\nУстановить щиты «Аварийно-опасный участок».\\n                                                                                                                                                                                                                                                                                                                                                                                                                                                                                                                                                                                                                                                                                                                                                                                                                                                                                                                                                                    1\n",
       "В октябре 2016 года введен в эксплуатацию объект: Строительство и реконструкция автомобильной дороги М-8 «Холмогоры» от Москвы через Ярославль, Вологду до Архангельска. Реконструкция автомобильной дороги М-8 \"Холмогоры\" Москва - Ярославль - Вологда - Архангельск на участке                         км 1213+000 – км 1226+218.                                                                                                                                                                                                                                                                                                                                                                                                                                                                                                                                                                                                                                                                                                                                                  1\n",
       "1. Изменить организацию дорожного движения, исключив сквозной проезд транспортных средств по автомобильной дороге М-8 «Холмогоры» Москва-Ярославль-Вологда-Архангельск. Движение будет осуществляться по кольцевому пересечению. \\nВ качестве первоочередных выполнить следующие мероприятия: \\nа) Обустроить шумовые полосы на подходах к кольцевому пересечению по автомобильной дороге М-8 «Холмогоры» Москва-Ярославль-Вологда-Архангельск;\\nб) Установить щиты аварийно-опасный участок;\\nв) Установить дорожные знаки 1.34.1 «Направление поворота», 2.2 «Конец главной дороги», 4.3 «Круговое движение», 2.4 «Уступите дорогу»;\\nг) Установить водоналивные блоки, для исключения сквозного проезда транспортных средств;\\nВ качестве долговременных мероприятий: \\n2. Установить светофорный объект с кнопкой вызова пешеходом и светодиодной подсветкой  на нерегулируемом пешеходном переходе км 433+187. \\n3. Установка барьерного ограждения, общей протяженностью 50м. \\n4. Установить Г-образные опоры на нерегулируемом пешеходном переходе со стороны Шуйского. \\n    1\n",
       "Установить щиты «Аварийно-опасный участок». Рассмотреть возможность ограничения скоростного режима до 40 км/ч, обустроить шумовые полосы, установить комплексы автоматической фиксации нарушений ПДД. Рассмотреть техническую возможность установки обратного отчета времени на светофорном объекте. Рассмотреть возможность применения 3-D разметки 1.12 (стоп-линия), 1.1, 1.3 (разделение потоков попутного и встречного направления) в пределах перекрестка.                                                                                                                                                                                                                                                                                                                                                                                                                                                                                                                                                                                                                      1\n",
       "Провести комплексное обследование транспортной развязки и разработать мероприятия направленные на оптимизацию схем ОДД.\\n1. Рассмотреть возможность изменения режима работы светофорного объекта (установить табло обратного отчета времени и увеличить время запрещающего сигнала светофора, для обеспечения безопасного завершения маневра – проезда перекрестка);\\n2. Узел 6 (транспортная развязка) – исключить левый поворот на въездах (выездах) в районе ПО «Резинотехника»\\n                                                                                                                                                                                                                                                                                                                                                                                                                                                                                                                                                                                                  1\n",
       "Щит аварийно-опасный участок.   Устройство шумовых полос, введение местного ограничения скоростного режима.                                                                                                                                                                                                                                                                                                                                                                                                                                                                                                                                                                                                                                                                                                                                                                                                                                                                                                                                                                           1\n",
       "Проработать вопрос установки тросового ограждения по оси проезжей части. Щит аварийно-опасный участок.                                                                                                                                                                                                                                                                                                                                                                                                                                                                                                                                                                                                                                                                                                                                                                                                                                                                                                                                                                                1\n",
       "1. Установить щиты аварийно-опасный участок. Срок исполнения – не позднее 01.06.2021 \\n2. Модернизация светофорного объекта, корректировка работы фаз светофорного регулирования. Срок исполнения – по мере выделения бюджетных средств.\\n3. Изменение схемы организации дорожного движения, на перекрестке, обеспечить использование полос в соответствии с интенсивностью движения транспортных средств по различным направлениям. Срок исполнения – не позднее 30.06.2021                                                                                                                                                                                                                                                                                                                                                                                                                                                                                                                                                                                                          1\n",
       "Нанесение горизонтальной разметки долговечными материалами (холодный пластик) шириной 0,15м по оси.                                                                                                                                                                                                                                                                                                                                                                                                                                                                                                                                                                                                                                                                                                                                                                                                                                                                                                                                                                                   1\n",
       "Реконструкция участка                                                                                                                                                                                                                                                                                                                                                                                                                                                                                                                                                                                                                                                                                                                                                                                                                                                                                                                                                                                                                                                                 1\n",
       "1. Комплекс автоматической фиксации нарушений ПДД.\\n2. Установить щиты аварийно-опасный участок.\\n3. Ограничение скорости до 70 км/ч.\\n4. Рассмотреть вопрос установки пешеходных ограждений.\\n5. Рассмотреть вопрос устройства на светофорном объекте обратного отсчета времени.                                                                                                                                                                                                                                                                                                                                                                                                                                                                                                                                                                                                                                                                                                                                                                                                     1\n",
       "1. Рассмотреть возможность контроля средней скорости движения ТС на данном участке. Данный вопрос согласовать с ЦАФАП ГИБДД по Ярославской области.\\n2. Установить щиты аварийно-опасный участок.                                                                                                                                                                                                                                                                                                                                                                                                                                                                                                                                                                                                                                                                                                                                                                                                                                                                                     1\n",
       "Устройство стационарного искусственного электроосвещения автобусной остановки и пешеходного перехода на автомобильной дороге подъезд к г. Северодвинск км 2+300 (примыкание а/д Подъезд к д. Рикасово)  и установка дублирующих дорожных знаков 5.19.1 над проезжей частью выполнено в октябре 2016 года.                                                                                                                                                                                                                                                                                                                                                                                                                                                                                                                                                                                                                                                                                                                                                                             1\n",
       "Обустроить участок искусственным освещением. Установить щиты «Аварийно-опасный участок». Рассмотреть возможность установки в пределах пересечения камеры автоматической фиксации нарушений ПДД. Рассмотреть техническую возможность установки обратного отчета времени фаз светофорного объекта.                                                                                                                                                                                                                                                                                                                                                                                                                                                                                                                                                                                                                                                                                                                                                                                      1\n",
       " Установка делиниаторов по оси (дополнительных мероприятий не требуется, после установки делиниаторов ДТП не фиксировались)                                                                                                                                                                                                                                                                                                                                                                                                                                                                                                                                                                                                                                                                                                                                                                                                                                                                                                                                                           1\n",
       "Щит «Аварийно-опасный участок». Устройство шумовых полос перед опасными участками.                                                                                                                                                                                                                                                                                                                                                                                                                                                                                                                                                                                                                                                                                                                                                                                                                                                                                                                                                                                                    1\n",
       "Устройство светофорного объекта на пешеходном переходе с кнопкой вызова                   км 214+314. Рассмотреть возможность обустройства участка искусственным освещением. Устройство шумовых полос. Щит «Аварийно-опасный участок».                                                                                                                                                                                                                                                                                                                                                                                                                                                                                                                                                                                                                                                                                                                                                                                                                                                1\n",
       "1. Ограничение скорости до 70 км/ч с устройством шумовых полос и установкой дорожных знаков 1.16 «Неровная дорога». \\n2. Дублирование дорожных знаков 3.20 «Обгон запрещен» и размещение их на щитах с флуорисцентной пленкой желто-зеленого цвета.\\n3. Установить щиты аварийно-опасный участок.                                                                                                                                                                                                                                                                                                                                                                                                                                                                                                                                                                                                                                                                                                                                                                                     1\n",
       "1. Установить щиты аварийно-опасный участок.\\n2. Установка стационарного комплекса автоматической фиксации нарушений ПДД.\\n3. Устройство дополнительного стационарного освещения при условии выделения финансирования.\\n4. Рассмотреть вопрос устройства шумовых полос.\\n5. Рассмотреть вопрос установки сигнальных столбиков.                                                                                                                                                                                                                                                                                                                                                                                                                                                                                                                                                                                                                                                                                                                                                        1\n",
       "1. Установить ограничивающие пешеходные ограждения в районе регулируемого пешеходного перехода. \\n2. Рассмотреть вопрос о переносе пешеходного перехода ближе к автобусной остановке, а также другие мероприятия для исключения перехода проезжей части пешеходами в районе автобусной остановки.\\n                                                                                                                                                                                                                                                                                                                                                                                                                                                                                                                                                                                                                                                                                                                                                                                   1\n",
       "1. Устройство искусственного освещения в пределах примыкания на Шурскол. \\n2. Устройство транспортного светофора.\\n3. Светодиодная подсветка светофора.\\n4. Установка стационарного комплекса автоматической фиксации нарушений ПДД.\\n5. Установить щиты аварийно-опасный участок.                                                                                                                                                                                                                                                                                                                                                                                                                                                                                                                                                                                                                                                                                                                                                                                                    1\n",
       "Выполнено устройство искусственного освещения в 2017 году, устройство тросового ограждения выполнено на участке км 253+300 – км 254+270, на участке км 253+180 –  км 253+280 не выполнено по причине наличия газопровода.  Щит аварийно-опасный участок установлен.                                                                                                                                                                                                                                                                                                                                                                                                                                                                                                                                                                                                                                                                                                                                                                                                                   1\n",
       "1. Установить светофорный объект с кнопкой вызова пешеходом.\\n2. Установка перильного ограждения по ГОСТ Р 52289-2004.\\n3. Установка стационарного комплекса автоматической фиксации нарушений ПДД.\\n4. Размещение знаков 1.34.1 и 1.34.2 на щитах с флуоресцентной пленкой желто-зеленого цвета.\\n5. Светодиодная подсветка светофора.\\n6. Установить щиты аварийно-опасный участок.                                                                                                                                                                                                                                                                                                                                                                                                                                                                                                                                                                                                                                                                                                 1\n",
       "Установлен щит «Аварийно-опасный участок». Изменение режима работы светофорного объекта, проработать вопрос устройства искусственного освещения на перекрестке.                                                                                                                                                                                                                                                                                                                                                                                                                                                                                                                                                                                                                                                                                                                                                                                                                                                                                                                       1\n",
       "1. Устройство транспортного светофора.\\n2. Светодиодная подсветка светофора.\\n3. Установить щиты аварийно-опасный участок.\\n4. Рассмотреть вопрос освещения перекрестка.                                                                                                                                                                                                                                                                                                                                                                                                                                                                                                                                                                                                                                                                                                                                                                                                                                                                                                              1\n",
       "Щит аварийно-опасный участок.   Обновление шумовых полос.                                                                                                                                                                                                                                                                                                                                                                                                                                                                                                                                                                                                                                                                                                                                                                                                                                                                                                                                                                                                                             1\n",
       "Name: planactiv_descr, dtype: int64"
      ]
     },
     "execution_count": 186,
     "metadata": {},
     "output_type": "execute_result"
    }
   ],
   "source": [
    "crash_parts.planactiv_descr.value_counts()"
   ]
  },
  {
   "cell_type": "code",
   "execution_count": 187,
   "metadata": {},
   "outputs": [
    {
     "data": {
      "text/plain": [
       "107"
      ]
     },
     "execution_count": 187,
     "metadata": {},
     "output_type": "execute_result"
    }
   ],
   "source": [
    "len(crash_parts.planactiv_descr.value_counts())"
   ]
  },
  {
   "cell_type": "code",
   "execution_count": 195,
   "metadata": {},
   "outputs": [
    {
     "data": {
      "text/plain": [
       "9     147\n",
       "14     17\n",
       "Name: road_id, dtype: int64"
      ]
     },
     "execution_count": 195,
     "metadata": {},
     "output_type": "execute_result"
    }
   ],
   "source": [
    "crash_parts.road_id.value_counts()"
   ]
  },
  {
   "cell_type": "code",
   "execution_count": 188,
   "metadata": {},
   "outputs": [
    {
     "data": {
      "text/plain": [
       "2017-01-01    41\n",
       "2020-01-01    36\n",
       "2018-01-01    32\n",
       "2019-01-01    29\n",
       "2016-01-01    26\n",
       "Name: datetime, dtype: int64"
      ]
     },
     "execution_count": 188,
     "metadata": {},
     "output_type": "execute_result"
    }
   ],
   "source": [
    "crash_parts.datetime.value_counts()"
   ]
  },
  {
   "cell_type": "code",
   "execution_count": 190,
   "metadata": {},
   "outputs": [
    {
     "data": {
      "text/plain": [
       "3    114\n",
       "1     30\n",
       "2     20\n",
       "Name: stabchar_type, dtype: int64"
      ]
     },
     "execution_count": 190,
     "metadata": {},
     "output_type": "execute_result"
    }
   ],
   "source": [
    "crash_parts.stabchar_type.value_counts()"
   ]
  },
  {
   "cell_type": "markdown",
   "metadata": {},
   "source": [
    "характеристика стабильности местоположения участка концентрации ДТП. Принимает следующие 3 значения:\n",
    "• 1 - Стабильный;\n",
    "• 2 - Мигрирующий (подразумевается варьирующий характер частоты ДТП на\n",
    "данном участке при сравнении по годам);\n",
    "• 3 - Вновь возникший (подразумевает возникновение нескольких аварийно опасных\n",
    "ситуаций в рамках одного года)."
   ]
  },
  {
   "cell_type": "code",
   "execution_count": 193,
   "metadata": {},
   "outputs": [
    {
     "data": {
      "text/plain": [
       "4    141\n",
       "2     19\n",
       "1      4\n",
       "Name: planactiv_type, dtype: int64"
      ]
     },
     "execution_count": 193,
     "metadata": {},
     "output_type": "execute_result"
    }
   ],
   "source": [
    "crash_parts.planactiv_type.value_counts()"
   ]
  },
  {
   "cell_type": "markdown",
   "metadata": {},
   "source": [
    "код планируемого/планируемых работ на данном участке. Принимает следующие 4 значения:\n",
    "• 1 - реконструкция;\n",
    "• 2 - капитальный ремонт;\n",
    "• 3 - ремонт;\n",
    "• 4 - содержание."
   ]
  },
  {
   "cell_type": "markdown",
   "metadata": {},
   "source": [
    "#### TODO: Важная фича - произошло ли событие на аварийном участке."
   ]
  },
  {
   "cell_type": "code",
   "execution_count": 196,
   "metadata": {},
   "outputs": [
    {
     "data": {
      "text/html": [
       "<div>\n",
       "<style scoped>\n",
       "    .dataframe tbody tr th:only-of-type {\n",
       "        vertical-align: middle;\n",
       "    }\n",
       "\n",
       "    .dataframe tbody tr th {\n",
       "        vertical-align: top;\n",
       "    }\n",
       "\n",
       "    .dataframe thead th {\n",
       "        text-align: right;\n",
       "    }\n",
       "</style>\n",
       "<table border=\"1\" class=\"dataframe\">\n",
       "  <thead>\n",
       "    <tr style=\"text-align: right;\">\n",
       "      <th></th>\n",
       "      <th>datetime</th>\n",
       "      <th>road_id</th>\n",
       "      <th>road_km</th>\n",
       "      <th>man_injured_num</th>\n",
       "      <th>man_dead_num</th>\n",
       "      <th>car_damaged_num</th>\n",
       "      <th>road_name</th>\n",
       "      <th>lon</th>\n",
       "      <th>lat</th>\n",
       "      <th>data_source</th>\n",
       "      <th>target</th>\n",
       "    </tr>\n",
       "  </thead>\n",
       "  <tbody>\n",
       "    <tr>\n",
       "      <th>22740</th>\n",
       "      <td>2016-01-01 04:00:00</td>\n",
       "      <td>5</td>\n",
       "      <td>5</td>\n",
       "      <td>0</td>\n",
       "      <td>0</td>\n",
       "      <td>1.0</td>\n",
       "      <td>М-4 (E115) =Дон= Москва - Новороссийск</td>\n",
       "      <td>NaN</td>\n",
       "      <td>NaN</td>\n",
       "      <td>gibdd</td>\n",
       "      <td>1</td>\n",
       "    </tr>\n",
       "    <tr>\n",
       "      <th>22741</th>\n",
       "      <td>2016-01-01 06:00:00</td>\n",
       "      <td>9</td>\n",
       "      <td>23</td>\n",
       "      <td>0</td>\n",
       "      <td>0</td>\n",
       "      <td>1.0</td>\n",
       "      <td>М-8 (E115) =Холмогоры=   Москва-Архангельск через Ярославль, Вологду</td>\n",
       "      <td>NaN</td>\n",
       "      <td>NaN</td>\n",
       "      <td>gibdd</td>\n",
       "      <td>1</td>\n",
       "    </tr>\n",
       "    <tr>\n",
       "      <th>22742</th>\n",
       "      <td>2016-01-01 07:00:00</td>\n",
       "      <td>5</td>\n",
       "      <td>199</td>\n",
       "      <td>0</td>\n",
       "      <td>0</td>\n",
       "      <td>2.0</td>\n",
       "      <td>М-4 (E115) =Дон= Москва - Новороссийск</td>\n",
       "      <td>NaN</td>\n",
       "      <td>NaN</td>\n",
       "      <td>gibdd</td>\n",
       "      <td>1</td>\n",
       "    </tr>\n",
       "    <tr>\n",
       "      <th>22743</th>\n",
       "      <td>2016-01-01 08:00:00</td>\n",
       "      <td>14</td>\n",
       "      <td>76</td>\n",
       "      <td>0</td>\n",
       "      <td>0</td>\n",
       "      <td>2.0</td>\n",
       "      <td>М-18 ( E105) =Кола=          С.-Петербург-Мурманск через Петрозаводск</td>\n",
       "      <td>NaN</td>\n",
       "      <td>NaN</td>\n",
       "      <td>gibdd</td>\n",
       "      <td>1</td>\n",
       "    </tr>\n",
       "    <tr>\n",
       "      <th>22744</th>\n",
       "      <td>2016-01-01 08:00:00</td>\n",
       "      <td>5</td>\n",
       "      <td>174</td>\n",
       "      <td>0</td>\n",
       "      <td>0</td>\n",
       "      <td>2.0</td>\n",
       "      <td>М-4 (E115) =Дон= Москва - Новороссийск</td>\n",
       "      <td>NaN</td>\n",
       "      <td>NaN</td>\n",
       "      <td>gibdd</td>\n",
       "      <td>1</td>\n",
       "    </tr>\n",
       "  </tbody>\n",
       "</table>\n",
       "</div>"
      ],
      "text/plain": [
       "                 datetime  road_id  road_km  man_injured_num  man_dead_num  \\\n",
       "22740 2016-01-01 04:00:00        5        5                0             0   \n",
       "22741 2016-01-01 06:00:00        9       23                0             0   \n",
       "22742 2016-01-01 07:00:00        5      199                0             0   \n",
       "22743 2016-01-01 08:00:00       14       76                0             0   \n",
       "22744 2016-01-01 08:00:00        5      174                0             0   \n",
       "\n",
       "       car_damaged_num  \\\n",
       "22740              1.0   \n",
       "22741              1.0   \n",
       "22742              2.0   \n",
       "22743              2.0   \n",
       "22744              2.0   \n",
       "\n",
       "                                                                   road_name  \\\n",
       "22740                                М-4 (E115) =Дон= Москва - Новороссийск    \n",
       "22741   М-8 (E115) =Холмогоры=   Москва-Архангельск через Ярославль, Вологду   \n",
       "22742                                М-4 (E115) =Дон= Москва - Новороссийск    \n",
       "22743  М-18 ( E105) =Кола=          С.-Петербург-Мурманск через Петрозаводск   \n",
       "22744                                М-4 (E115) =Дон= Москва - Новороссийск    \n",
       "\n",
       "       lon  lat data_source  target  \n",
       "22740  NaN  NaN       gibdd       1  \n",
       "22741  NaN  NaN       gibdd       1  \n",
       "22742  NaN  NaN       gibdd       1  \n",
       "22743  NaN  NaN       gibdd       1  \n",
       "22744  NaN  NaN       gibdd       1  "
      ]
     },
     "execution_count": 196,
     "metadata": {},
     "output_type": "execute_result"
    }
   ],
   "source": [
    "df.head()"
   ]
  },
  {
   "cell_type": "code",
   "execution_count": 250,
   "metadata": {},
   "outputs": [],
   "source": [
    "def is_on_crash_part(row):\n",
    "    road_id = row['road_id']  \n",
    "    if road_id != 5:\n",
    "        road_crash_parts = crash_parts.loc[crash_parts['road_id'] == road_id]\n",
    "        for index, crash_part in road_crash_parts.iterrows():\n",
    "            if crash_part['road_km'] <= row['road_km'] <= round(crash_part['avuch_end']):\n",
    "                return True\n",
    "        \n",
    "    return False"
   ]
  },
  {
   "cell_type": "code",
   "execution_count": 251,
   "metadata": {},
   "outputs": [],
   "source": [
    "df['on_crash_part'] = df.apply(lambda row: is_on_crash_part(row), axis = 1)"
   ]
  },
  {
   "cell_type": "code",
   "execution_count": 252,
   "metadata": {},
   "outputs": [
    {
     "data": {
      "text/html": [
       "<div>\n",
       "<style scoped>\n",
       "    .dataframe tbody tr th:only-of-type {\n",
       "        vertical-align: middle;\n",
       "    }\n",
       "\n",
       "    .dataframe tbody tr th {\n",
       "        vertical-align: top;\n",
       "    }\n",
       "\n",
       "    .dataframe thead th {\n",
       "        text-align: right;\n",
       "    }\n",
       "</style>\n",
       "<table border=\"1\" class=\"dataframe\">\n",
       "  <thead>\n",
       "    <tr style=\"text-align: right;\">\n",
       "      <th></th>\n",
       "      <th>datetime</th>\n",
       "      <th>road_id</th>\n",
       "      <th>road_km</th>\n",
       "      <th>man_injured_num</th>\n",
       "      <th>man_dead_num</th>\n",
       "      <th>car_damaged_num</th>\n",
       "      <th>road_name</th>\n",
       "      <th>lon</th>\n",
       "      <th>lat</th>\n",
       "      <th>data_source</th>\n",
       "      <th>target</th>\n",
       "      <th>on_crash_part</th>\n",
       "    </tr>\n",
       "  </thead>\n",
       "  <tbody>\n",
       "    <tr>\n",
       "      <th>22740</th>\n",
       "      <td>2016-01-01 04:00:00</td>\n",
       "      <td>5</td>\n",
       "      <td>5</td>\n",
       "      <td>0</td>\n",
       "      <td>0</td>\n",
       "      <td>1.0</td>\n",
       "      <td>М-4 (E115) =Дон= Москва - Новороссийск</td>\n",
       "      <td>NaN</td>\n",
       "      <td>NaN</td>\n",
       "      <td>gibdd</td>\n",
       "      <td>1</td>\n",
       "      <td>False</td>\n",
       "    </tr>\n",
       "    <tr>\n",
       "      <th>22741</th>\n",
       "      <td>2016-01-01 06:00:00</td>\n",
       "      <td>9</td>\n",
       "      <td>23</td>\n",
       "      <td>0</td>\n",
       "      <td>0</td>\n",
       "      <td>1.0</td>\n",
       "      <td>М-8 (E115) =Холмогоры=   Москва-Архангельск через Ярославль, Вологду</td>\n",
       "      <td>NaN</td>\n",
       "      <td>NaN</td>\n",
       "      <td>gibdd</td>\n",
       "      <td>1</td>\n",
       "      <td>True</td>\n",
       "    </tr>\n",
       "    <tr>\n",
       "      <th>22742</th>\n",
       "      <td>2016-01-01 07:00:00</td>\n",
       "      <td>5</td>\n",
       "      <td>199</td>\n",
       "      <td>0</td>\n",
       "      <td>0</td>\n",
       "      <td>2.0</td>\n",
       "      <td>М-4 (E115) =Дон= Москва - Новороссийск</td>\n",
       "      <td>NaN</td>\n",
       "      <td>NaN</td>\n",
       "      <td>gibdd</td>\n",
       "      <td>1</td>\n",
       "      <td>False</td>\n",
       "    </tr>\n",
       "    <tr>\n",
       "      <th>22743</th>\n",
       "      <td>2016-01-01 08:00:00</td>\n",
       "      <td>14</td>\n",
       "      <td>76</td>\n",
       "      <td>0</td>\n",
       "      <td>0</td>\n",
       "      <td>2.0</td>\n",
       "      <td>М-18 ( E105) =Кола=          С.-Петербург-Мурманск через Петрозаводск</td>\n",
       "      <td>NaN</td>\n",
       "      <td>NaN</td>\n",
       "      <td>gibdd</td>\n",
       "      <td>1</td>\n",
       "      <td>False</td>\n",
       "    </tr>\n",
       "    <tr>\n",
       "      <th>22744</th>\n",
       "      <td>2016-01-01 08:00:00</td>\n",
       "      <td>5</td>\n",
       "      <td>174</td>\n",
       "      <td>0</td>\n",
       "      <td>0</td>\n",
       "      <td>2.0</td>\n",
       "      <td>М-4 (E115) =Дон= Москва - Новороссийск</td>\n",
       "      <td>NaN</td>\n",
       "      <td>NaN</td>\n",
       "      <td>gibdd</td>\n",
       "      <td>1</td>\n",
       "      <td>False</td>\n",
       "    </tr>\n",
       "  </tbody>\n",
       "</table>\n",
       "</div>"
      ],
      "text/plain": [
       "                 datetime  road_id  road_km  man_injured_num  man_dead_num  \\\n",
       "22740 2016-01-01 04:00:00        5        5                0             0   \n",
       "22741 2016-01-01 06:00:00        9       23                0             0   \n",
       "22742 2016-01-01 07:00:00        5      199                0             0   \n",
       "22743 2016-01-01 08:00:00       14       76                0             0   \n",
       "22744 2016-01-01 08:00:00        5      174                0             0   \n",
       "\n",
       "       car_damaged_num  \\\n",
       "22740              1.0   \n",
       "22741              1.0   \n",
       "22742              2.0   \n",
       "22743              2.0   \n",
       "22744              2.0   \n",
       "\n",
       "                                                                   road_name  \\\n",
       "22740                                М-4 (E115) =Дон= Москва - Новороссийск    \n",
       "22741   М-8 (E115) =Холмогоры=   Москва-Архангельск через Ярославль, Вологду   \n",
       "22742                                М-4 (E115) =Дон= Москва - Новороссийск    \n",
       "22743  М-18 ( E105) =Кола=          С.-Петербург-Мурманск через Петрозаводск   \n",
       "22744                                М-4 (E115) =Дон= Москва - Новороссийск    \n",
       "\n",
       "       lon  lat data_source  target  on_crash_part  \n",
       "22740  NaN  NaN       gibdd       1          False  \n",
       "22741  NaN  NaN       gibdd       1           True  \n",
       "22742  NaN  NaN       gibdd       1          False  \n",
       "22743  NaN  NaN       gibdd       1          False  \n",
       "22744  NaN  NaN       gibdd       1          False  "
      ]
     },
     "execution_count": 252,
     "metadata": {},
     "output_type": "execute_result"
    }
   ],
   "source": [
    "df.head()"
   ]
  },
  {
   "cell_type": "code",
   "execution_count": 253,
   "metadata": {},
   "outputs": [
    {
     "data": {
      "text/plain": [
       "False    77083\n",
       "True      9549\n",
       "Name: on_crash_part, dtype: int64"
      ]
     },
     "execution_count": 253,
     "metadata": {},
     "output_type": "execute_result"
    }
   ],
   "source": [
    "df.on_crash_part.value_counts()"
   ]
  },
  {
   "cell_type": "code",
   "execution_count": 254,
   "metadata": {},
   "outputs": [
    {
     "data": {
      "text/plain": [
       "False    27053\n",
       "True      9549\n",
       "Name: on_crash_part, dtype: int64"
      ]
     },
     "execution_count": 254,
     "metadata": {},
     "output_type": "execute_result"
    }
   ],
   "source": [
    "df.loc[df.road_id != 5].on_crash_part.value_counts()"
   ]
  },
  {
   "cell_type": "code",
   "execution_count": 255,
   "metadata": {},
   "outputs": [
    {
     "data": {
      "image/png": "[encoded data removed]",
      "text/plain": [
       "<Figure size 504x504 with 1 Axes>"
      ]
     },
     "metadata": {},
     "output_type": "display_data"
    }
   ],
   "source": [
    "df.loc[df.on_crash_part == True].target.value_counts().plot(kind = 'pie', figsize = (7, 7), autopct='%1.0f%%');"
   ]
  },
  {
   "cell_type": "code",
   "execution_count": 256,
   "metadata": {},
   "outputs": [
    {
     "data": {
      "image/png": "[encoded data removed]",
      "text/plain": [
       "<Figure size 504x504 with 1 Axes>"
      ]
     },
     "metadata": {},
     "output_type": "display_data"
    }
   ],
   "source": [
    "df.target.value_counts().plot(kind = 'pie', figsize = (7, 7), autopct='%1.0f%%');"
   ]
  },
  {
   "cell_type": "markdown",
   "metadata": {},
   "source": [
    "### TODO: Анализ geo_data - ?"
   ]
  },
  {
   "cell_type": "code",
   "execution_count": null,
   "metadata": {},
   "outputs": [],
   "source": []
  },
  {
   "cell_type": "markdown",
   "metadata": {},
   "source": [
    "### TODO: Анализ данных о погоде (Леша)"
   ]
  },
  {
   "cell_type": "code",
   "execution_count": null,
   "metadata": {},
   "outputs": [],
   "source": []
  },
  {
   "cell_type": "code",
   "execution_count": 134,
   "metadata": {},
   "outputs": [],
   "source": [
    "# фильтр датасетов по заданным уловиям\n",
    "condition1 = (repair['datetime'] == START_TRAIN_DATE) | (repair['datetime'] == END_TRAIN_DATE)\n",
    "repair = repair[condition1]\n",
    "\n",
    "condition2 = (traffic['datetime'] > '2020-01-01')\n",
    "condition3 = (traffic['datetime'] < '2020-12-31')\n",
    "traffic = traffic[condition2 & condition3]"
   ]
  },
  {
   "cell_type": "code",
   "execution_count": 135,
   "metadata": {},
   "outputs": [],
   "source": [
    "def hour_rounder(t):\n",
    "    return (t.replace(second=0, microsecond=0, minute=0, hour=t.hour)\n",
    "               +timedelta(hours=t.minute//30))"
   ]
  },
  {
   "cell_type": "code",
   "execution_count": 136,
   "metadata": {},
   "outputs": [],
   "source": [
    "# округление переменной datetime до часа\n",
    "traffic['datetime'] = traffic['datetime'].map(lambda x: hour_rounder(x))"
   ]
  },
  {
   "cell_type": "code",
   "execution_count": 137,
   "metadata": {},
   "outputs": [
    {
     "data": {
      "text/html": [
       "<div>\n",
       "<style scoped>\n",
       "    .dataframe tbody tr th:only-of-type {\n",
       "        vertical-align: middle;\n",
       "    }\n",
       "\n",
       "    .dataframe tbody tr th {\n",
       "        vertical-align: top;\n",
       "    }\n",
       "\n",
       "    .dataframe thead th {\n",
       "        text-align: right;\n",
       "    }\n",
       "</style>\n",
       "<table border=\"1\" class=\"dataframe\">\n",
       "  <thead>\n",
       "    <tr style=\"text-align: right;\">\n",
       "      <th></th>\n",
       "      <th>datetime</th>\n",
       "      <th>road_id_x</th>\n",
       "      <th>road_km</th>\n",
       "      <th>man_injured_num</th>\n",
       "      <th>man_dead_num</th>\n",
       "      <th>car_damaged_num</th>\n",
       "      <th>road_name</th>\n",
       "      <th>lon</th>\n",
       "      <th>lat</th>\n",
       "      <th>data_source</th>\n",
       "      <th>target</th>\n",
       "      <th>road_id_y</th>\n",
       "      <th>name</th>\n",
       "      <th>data_id</th>\n",
       "      <th>station_id</th>\n",
       "      <th>lane</th>\n",
       "      <th>lane_count</th>\n",
       "      <th>direction</th>\n",
       "      <th>volume</th>\n",
       "      <th>occupancy</th>\n",
       "      <th>speed</th>\n",
       "      <th>latitude</th>\n",
       "      <th>longitude</th>\n",
       "    </tr>\n",
       "  </thead>\n",
       "  <tbody>\n",
       "    <tr>\n",
       "      <th>76172</th>\n",
       "      <td>2020-01-04 17:00:00</td>\n",
       "      <td>5.0</td>\n",
       "      <td>856</td>\n",
       "      <td>0.0</td>\n",
       "      <td>0.0</td>\n",
       "      <td>1.0</td>\n",
       "      <td>М-4 (E115) =Дон= Москва - Новороссийск</td>\n",
       "      <td>40.4603</td>\n",
       "      <td>48.9408</td>\n",
       "      <td>gibdd</td>\n",
       "      <td>1.0</td>\n",
       "      <td>14.0</td>\n",
       "      <td>км 855+800</td>\n",
       "      <td>34683992.0</td>\n",
       "      <td>1102.0</td>\n",
       "      <td>1.0</td>\n",
       "      <td>1.0</td>\n",
       "      <td>backward</td>\n",
       "      <td>33.0</td>\n",
       "      <td>0.757812</td>\n",
       "      <td>76.6275</td>\n",
       "      <td>64.915595</td>\n",
       "      <td>34.248307</td>\n",
       "    </tr>\n",
       "    <tr>\n",
       "      <th>76173</th>\n",
       "      <td>2020-01-04 17:00:00</td>\n",
       "      <td>5.0</td>\n",
       "      <td>856</td>\n",
       "      <td>0.0</td>\n",
       "      <td>0.0</td>\n",
       "      <td>1.0</td>\n",
       "      <td>М-4 (E115) =Дон= Москва - Новороссийск</td>\n",
       "      <td>40.4603</td>\n",
       "      <td>48.9408</td>\n",
       "      <td>gibdd</td>\n",
       "      <td>1.0</td>\n",
       "      <td>14.0</td>\n",
       "      <td>км 855+800</td>\n",
       "      <td>34683992.0</td>\n",
       "      <td>1102.0</td>\n",
       "      <td>1.0</td>\n",
       "      <td>1.0</td>\n",
       "      <td>forward</td>\n",
       "      <td>42.0</td>\n",
       "      <td>1.960938</td>\n",
       "      <td>62.0650</td>\n",
       "      <td>64.915595</td>\n",
       "      <td>34.248307</td>\n",
       "    </tr>\n",
       "  </tbody>\n",
       "</table>\n",
       "</div>"
      ],
      "text/plain": [
       "                 datetime  road_id_x  road_km  man_injured_num  man_dead_num  \\\n",
       "76172 2020-01-04 17:00:00        5.0      856              0.0           0.0   \n",
       "76173 2020-01-04 17:00:00        5.0      856              0.0           0.0   \n",
       "\n",
       "       car_damaged_num                                road_name      lon  \\\n",
       "76172              1.0  М-4 (E115) =Дон= Москва - Новороссийск   40.4603   \n",
       "76173              1.0  М-4 (E115) =Дон= Москва - Новороссийск   40.4603   \n",
       "\n",
       "           lat data_source  target  road_id_y        name     data_id  \\\n",
       "76172  48.9408       gibdd     1.0       14.0  км 855+800  34683992.0   \n",
       "76173  48.9408       gibdd     1.0       14.0  км 855+800  34683992.0   \n",
       "\n",
       "       station_id  lane  lane_count direction  volume  occupancy    speed  \\\n",
       "76172      1102.0   1.0         1.0  backward    33.0   0.757812  76.6275   \n",
       "76173      1102.0   1.0         1.0   forward    42.0   1.960938  62.0650   \n",
       "\n",
       "        latitude  longitude  \n",
       "76172  64.915595  34.248307  \n",
       "76173  64.915595  34.248307  "
      ]
     },
     "execution_count": 137,
     "metadata": {},
     "output_type": "execute_result"
    }
   ],
   "source": [
    "# объединение датасета с данными о ДТП с данными о трафике\n",
    "tmp = pd.merge(df, traffic, how='outer', on=['datetime', 'road_km'])\n",
    "condition1 = (tmp['target'].isnull()) & (tmp['data_id'].isnull())\n",
    "condition2 = ~(tmp['target'].isnull()) & (tmp['data_id'].isnull())\n",
    "tmp = tmp.drop(tmp[condition1].index)\n",
    "tmp = tmp.drop(tmp[condition2].index)\n",
    "tmp = tmp.fillna(0)\n",
    "tmp.head(2)"
   ]
  },
  {
   "cell_type": "code",
   "execution_count": 138,
   "metadata": {},
   "outputs": [
    {
     "data": {
      "text/html": [
       "<div>\n",
       "<style scoped>\n",
       "    .dataframe tbody tr th:only-of-type {\n",
       "        vertical-align: middle;\n",
       "    }\n",
       "\n",
       "    .dataframe tbody tr th {\n",
       "        vertical-align: top;\n",
       "    }\n",
       "\n",
       "    .dataframe thead th {\n",
       "        text-align: right;\n",
       "    }\n",
       "</style>\n",
       "<table border=\"1\" class=\"dataframe\">\n",
       "  <thead>\n",
       "    <tr style=\"text-align: right;\">\n",
       "      <th></th>\n",
       "      <th>datetime</th>\n",
       "      <th>road_id_x</th>\n",
       "      <th>road_km</th>\n",
       "      <th>man_injured_num</th>\n",
       "      <th>man_dead_num</th>\n",
       "      <th>car_damaged_num</th>\n",
       "      <th>road_name</th>\n",
       "      <th>lon</th>\n",
       "      <th>lat</th>\n",
       "      <th>data_source</th>\n",
       "      <th>target</th>\n",
       "      <th>road_id_y</th>\n",
       "      <th>name</th>\n",
       "      <th>data_id</th>\n",
       "      <th>station_id</th>\n",
       "      <th>lane</th>\n",
       "      <th>lane_count</th>\n",
       "      <th>direction</th>\n",
       "      <th>volume</th>\n",
       "      <th>occupancy</th>\n",
       "      <th>speed</th>\n",
       "      <th>latitude</th>\n",
       "      <th>longitude</th>\n",
       "      <th>year</th>\n",
       "      <th>repair</th>\n",
       "    </tr>\n",
       "  </thead>\n",
       "  <tbody>\n",
       "    <tr>\n",
       "      <th>76172</th>\n",
       "      <td>2020-01-04 17:00:00</td>\n",
       "      <td>5.0</td>\n",
       "      <td>856</td>\n",
       "      <td>0.0</td>\n",
       "      <td>0.0</td>\n",
       "      <td>1.0</td>\n",
       "      <td>М-4 (E115) =Дон= Москва - Новороссийск</td>\n",
       "      <td>40.4603</td>\n",
       "      <td>48.9408</td>\n",
       "      <td>gibdd</td>\n",
       "      <td>1.0</td>\n",
       "      <td>14.0</td>\n",
       "      <td>км 855+800</td>\n",
       "      <td>34683992.0</td>\n",
       "      <td>1102.0</td>\n",
       "      <td>1.0</td>\n",
       "      <td>1.0</td>\n",
       "      <td>backward</td>\n",
       "      <td>33.0</td>\n",
       "      <td>0.757812</td>\n",
       "      <td>76.6275</td>\n",
       "      <td>64.915595</td>\n",
       "      <td>34.248307</td>\n",
       "      <td>2020</td>\n",
       "      <td>0.0</td>\n",
       "    </tr>\n",
       "    <tr>\n",
       "      <th>76173</th>\n",
       "      <td>2020-01-04 17:00:00</td>\n",
       "      <td>5.0</td>\n",
       "      <td>856</td>\n",
       "      <td>0.0</td>\n",
       "      <td>0.0</td>\n",
       "      <td>1.0</td>\n",
       "      <td>М-4 (E115) =Дон= Москва - Новороссийск</td>\n",
       "      <td>40.4603</td>\n",
       "      <td>48.9408</td>\n",
       "      <td>gibdd</td>\n",
       "      <td>1.0</td>\n",
       "      <td>14.0</td>\n",
       "      <td>км 855+800</td>\n",
       "      <td>34683992.0</td>\n",
       "      <td>1102.0</td>\n",
       "      <td>1.0</td>\n",
       "      <td>1.0</td>\n",
       "      <td>forward</td>\n",
       "      <td>42.0</td>\n",
       "      <td>1.960938</td>\n",
       "      <td>62.0650</td>\n",
       "      <td>64.915595</td>\n",
       "      <td>34.248307</td>\n",
       "      <td>2020</td>\n",
       "      <td>0.0</td>\n",
       "    </tr>\n",
       "  </tbody>\n",
       "</table>\n",
       "</div>"
      ],
      "text/plain": [
       "                 datetime  road_id_x  road_km  man_injured_num  man_dead_num  \\\n",
       "76172 2020-01-04 17:00:00        5.0      856              0.0           0.0   \n",
       "76173 2020-01-04 17:00:00        5.0      856              0.0           0.0   \n",
       "\n",
       "       car_damaged_num                                road_name      lon  \\\n",
       "76172              1.0  М-4 (E115) =Дон= Москва - Новороссийск   40.4603   \n",
       "76173              1.0  М-4 (E115) =Дон= Москва - Новороссийск   40.4603   \n",
       "\n",
       "           lat data_source  target  road_id_y        name     data_id  \\\n",
       "76172  48.9408       gibdd     1.0       14.0  км 855+800  34683992.0   \n",
       "76173  48.9408       gibdd     1.0       14.0  км 855+800  34683992.0   \n",
       "\n",
       "       station_id  lane  lane_count direction  volume  occupancy    speed  \\\n",
       "76172      1102.0   1.0         1.0  backward    33.0   0.757812  76.6275   \n",
       "76173      1102.0   1.0         1.0   forward    42.0   1.960938  62.0650   \n",
       "\n",
       "        latitude  longitude  year  repair  \n",
       "76172  64.915595  34.248307  2020     0.0  \n",
       "76173  64.915595  34.248307  2020     0.0  "
      ]
     },
     "execution_count": 138,
     "metadata": {},
     "output_type": "execute_result"
    }
   ],
   "source": [
    "# добавление данных о ремонте дороги на указанном километре\n",
    "tmp['year'] = tmp['datetime'].map(lambda x: x.year)\n",
    "repair['year'] = repair['datetime'].map(lambda x: x.year)\n",
    "index_repair = tmp[tmp.set_index(['road_km','year']).index.isin(repair.set_index(['road_km','year']).index)].index\n",
    "tmp.loc[index_repair, 'repair'] = 1\n",
    "tmp = tmp.fillna(0)\n",
    "tmp.head(2)"
   ]
  },
  {
   "cell_type": "code",
   "execution_count": 139,
   "metadata": {},
   "outputs": [
    {
     "name": "stdout",
     "output_type": "stream",
     "text": [
      "<class 'pandas.core.frame.DataFrame'>\n",
      "RangeIndex: 1275667 entries, 0 to 1275666\n",
      "Data columns (total 7 columns):\n",
      " #   Column     Non-Null Count    Dtype         \n",
      "---  ------     --------------    -----         \n",
      " 0   datetime   1275667 non-null  datetime64[ns]\n",
      " 1   road_km    1275667 non-null  int64         \n",
      " 2   target     1275667 non-null  float64       \n",
      " 3   volume     1275667 non-null  float64       \n",
      " 4   occupancy  1275667 non-null  float64       \n",
      " 5   speed      1275667 non-null  float64       \n",
      " 6   repair     1275667 non-null  float64       \n",
      "dtypes: datetime64[ns](1), float64(5), int64(1)\n",
      "memory usage: 68.1 MB\n"
     ]
    }
   ],
   "source": [
    "# выбор переменных\n",
    "columns = ['datetime',\n",
    "           'road_km',\n",
    "           'target',\n",
    "           'volume',\n",
    "           'occupancy',\n",
    "           'speed',\n",
    "           'repair']\n",
    "tmp = tmp[columns]\n",
    "tmp.reset_index(drop=True, inplace=True)\n",
    "tmp.info()"
   ]
  },
  {
   "cell_type": "code",
   "execution_count": 140,
   "metadata": {},
   "outputs": [
    {
     "data": {
      "image/png": "[encoded data removed]",
      "text/plain": [
       "<Figure size 864x720 with 2 Axes>"
      ]
     },
     "metadata": {
      "needs_background": "light"
     },
     "output_type": "display_data"
    }
   ],
   "source": [
    "corrmat = tmp.corr()\n",
    "f,ax = plt.subplots(figsize=(12,10))\n",
    "sns.heatmap(corrmat,vmax=0.8,square=True,annot=True,annot_kws={'size':8})\n",
    "plt.show()"
   ]
  },
  {
   "cell_type": "markdown",
   "metadata": {},
   "source": [
    "### 2. Формирование модели. Обучение. Тестирование."
   ]
  },
  {
   "cell_type": "code",
   "execution_count": 141,
   "metadata": {},
   "outputs": [
    {
     "name": "stdout",
     "output_type": "stream",
     "text": [
      "Нулевых значений переменной target:  1274512\n",
      "Ненулевых значений переменной target:  1155\n"
     ]
    }
   ],
   "source": [
    "print(\"Нулевых значений переменной target: \", tmp[tmp['target'] == 0].shape[0])\n",
    "print(\"Ненулевых значений переменной target: \", tmp[tmp['target'] != 0].shape[0])"
   ]
  },
  {
   "cell_type": "code",
   "execution_count": 142,
   "metadata": {},
   "outputs": [],
   "source": [
    "# снизим объем выборки, рандомно удалив 98% строк с нулевыми значениями для target\n",
    "tmp = tmp.drop(tmp[tmp['target'] == 0].sample(frac=.98).index)"
   ]
  },
  {
   "cell_type": "code",
   "execution_count": 143,
   "metadata": {},
   "outputs": [
    {
     "name": "stdout",
     "output_type": "stream",
     "text": [
      "Размер выборки для обучения:  (21316, 7)\n",
      "Размер выборки для тестирования:  (5329, 7)\n"
     ]
    }
   ],
   "source": [
    "tmp_train, tmp_test = train_test_split(tmp, test_size=0.2)\n",
    "print(\"Размер выборки для обучения: \", tmp_train.shape)\n",
    "print(\"Размер выборки для тестирования: \", tmp_test.shape)"
   ]
  },
  {
   "cell_type": "markdown",
   "metadata": {},
   "source": [
    "Выделим 20% всех данных на тестирование, остальные оставим на обучение"
   ]
  },
  {
   "cell_type": "code",
   "execution_count": 144,
   "metadata": {},
   "outputs": [
    {
     "name": "stdout",
     "output_type": "stream",
     "text": [
      "CPU times: user 4min 3s, sys: 2.81 s, total: 4min 6s\n",
      "Wall time: 4min 6s\n"
     ]
    }
   ],
   "source": [
    "%%time\n",
    "columns = ['volume',\n",
    "           'occupancy',\n",
    "           'speed',\n",
    "           'repair']\n",
    "tmp_train_x = tmp_train[columns]\n",
    "tmp_train_y = tmp_train['target']\n",
    "\n",
    "tmp_test_x = tmp_test[columns]\n",
    "tmp_test_y = tmp_test['target']\n",
    "\n",
    "clf = svm.SVC(gamma='auto', probability=True)\n",
    "clf.fit(tmp_train_x, tmp_train_y)\n",
    "predicted_target = clf.predict(tmp_test_x)"
   ]
  },
  {
   "cell_type": "code",
   "execution_count": 145,
   "metadata": {},
   "outputs": [
    {
     "data": {
      "text/plain": [
       "0.32873536401338227"
      ]
     },
     "execution_count": 145,
     "metadata": {},
     "output_type": "execute_result"
    }
   ],
   "source": [
    "# оценим модель на тестово сэмпле\n",
    "f1_score(tmp_test_y, predicted_target, average='macro')"
   ]
  },
  {
   "cell_type": "markdown",
   "metadata": {},
   "source": [
    "### 3. Проверка на основной тестовой выборке (предсказание)"
   ]
  },
  {
   "cell_type": "code",
   "execution_count": 147,
   "metadata": {},
   "outputs": [],
   "source": [
    "# загрузка выборки\n",
    "test = pd.read_pickle('data/test.pickle')\n",
    "# выбор трассы М-8\n",
    "#test = test[test[\"road_id\"]==9]"
   ]
  },
  {
   "cell_type": "markdown",
   "metadata": {},
   "source": [
    "#### Обагащение выборки переменными из датасетов `traffic.csv`, `repair.csv`"
   ]
  },
  {
   "cell_type": "code",
   "execution_count": 148,
   "metadata": {},
   "outputs": [
    {
     "data": {
      "text/html": [
       "<div>\n",
       "<style scoped>\n",
       "    .dataframe tbody tr th:only-of-type {\n",
       "        vertical-align: middle;\n",
       "    }\n",
       "\n",
       "    .dataframe tbody tr th {\n",
       "        vertical-align: top;\n",
       "    }\n",
       "\n",
       "    .dataframe thead th {\n",
       "        text-align: right;\n",
       "    }\n",
       "</style>\n",
       "<table border=\"1\" class=\"dataframe\">\n",
       "  <thead>\n",
       "    <tr style=\"text-align: right;\">\n",
       "      <th></th>\n",
       "      <th>datetime</th>\n",
       "      <th>road_id</th>\n",
       "      <th>road_km</th>\n",
       "      <th>target</th>\n",
       "      <th>name</th>\n",
       "      <th>data_id</th>\n",
       "      <th>station_id</th>\n",
       "      <th>lane</th>\n",
       "      <th>lane_count</th>\n",
       "      <th>direction</th>\n",
       "      <th>volume</th>\n",
       "      <th>occupancy</th>\n",
       "      <th>speed</th>\n",
       "      <th>latitude</th>\n",
       "      <th>longitude</th>\n",
       "    </tr>\n",
       "  </thead>\n",
       "  <tbody>\n",
       "    <tr>\n",
       "      <th>38</th>\n",
       "      <td>2020-01-01 01:00:00</td>\n",
       "      <td>9</td>\n",
       "      <td>38</td>\n",
       "      <td>NaN</td>\n",
       "      <td>км 38+300</td>\n",
       "      <td>34604682.0</td>\n",
       "      <td>53224.0</td>\n",
       "      <td>3.0</td>\n",
       "      <td>3.0</td>\n",
       "      <td>forward</td>\n",
       "      <td>87.0</td>\n",
       "      <td>1.0</td>\n",
       "      <td>114.671875</td>\n",
       "      <td>56.041809</td>\n",
       "      <td>37.892898</td>\n",
       "    </tr>\n",
       "    <tr>\n",
       "      <th>39</th>\n",
       "      <td>2020-01-01 01:00:00</td>\n",
       "      <td>9</td>\n",
       "      <td>38</td>\n",
       "      <td>NaN</td>\n",
       "      <td>км 38+300</td>\n",
       "      <td>34604682.0</td>\n",
       "      <td>53224.0</td>\n",
       "      <td>2.0</td>\n",
       "      <td>3.0</td>\n",
       "      <td>forward</td>\n",
       "      <td>207.0</td>\n",
       "      <td>1.0</td>\n",
       "      <td>115.708435</td>\n",
       "      <td>56.041809</td>\n",
       "      <td>37.892898</td>\n",
       "    </tr>\n",
       "  </tbody>\n",
       "</table>\n",
       "</div>"
      ],
      "text/plain": [
       "              datetime  road_id  road_km  target       name     data_id  \\\n",
       "38 2020-01-01 01:00:00        9       38     NaN  км 38+300  34604682.0   \n",
       "39 2020-01-01 01:00:00        9       38     NaN  км 38+300  34604682.0   \n",
       "\n",
       "    station_id  lane  lane_count direction  volume  occupancy       speed  \\\n",
       "38     53224.0   3.0         3.0   forward    87.0        1.0  114.671875   \n",
       "39     53224.0   2.0         3.0   forward   207.0        1.0  115.708435   \n",
       "\n",
       "     latitude  longitude  \n",
       "38  56.041809  37.892898  \n",
       "39  56.041809  37.892898  "
      ]
     },
     "execution_count": 148,
     "metadata": {},
     "output_type": "execute_result"
    }
   ],
   "source": [
    "# объединение выборки с данными о трафике\n",
    "test = pd.merge(test, traffic, how='outer', on=['datetime', 'road_km','road_id'])\n",
    "condition1 = (test['target'].isnull()) & (test['data_id'].isnull())\n",
    "test = test.drop(test[condition1].index)\n",
    "test.head(2)"
   ]
  },
  {
   "cell_type": "code",
   "execution_count": 149,
   "metadata": {},
   "outputs": [],
   "source": [
    "# добавление данных о ремонте дороги на указанном километре\n",
    "test['year'] = test['datetime'].map(lambda x: x.year)\n",
    "repair['year'] = repair['datetime'].map(lambda x: x.year)"
   ]
  },
  {
   "cell_type": "code",
   "execution_count": 150,
   "metadata": {},
   "outputs": [
    {
     "data": {
      "text/html": [
       "<div>\n",
       "<style scoped>\n",
       "    .dataframe tbody tr th:only-of-type {\n",
       "        vertical-align: middle;\n",
       "    }\n",
       "\n",
       "    .dataframe tbody tr th {\n",
       "        vertical-align: top;\n",
       "    }\n",
       "\n",
       "    .dataframe thead th {\n",
       "        text-align: right;\n",
       "    }\n",
       "</style>\n",
       "<table border=\"1\" class=\"dataframe\">\n",
       "  <thead>\n",
       "    <tr style=\"text-align: right;\">\n",
       "      <th></th>\n",
       "      <th>datetime</th>\n",
       "      <th>road_id</th>\n",
       "      <th>road_km</th>\n",
       "      <th>target</th>\n",
       "      <th>name</th>\n",
       "      <th>data_id</th>\n",
       "      <th>station_id</th>\n",
       "      <th>lane</th>\n",
       "      <th>lane_count</th>\n",
       "      <th>direction</th>\n",
       "      <th>volume</th>\n",
       "      <th>occupancy</th>\n",
       "      <th>speed</th>\n",
       "      <th>latitude</th>\n",
       "      <th>longitude</th>\n",
       "      <th>year</th>\n",
       "      <th>repair</th>\n",
       "    </tr>\n",
       "  </thead>\n",
       "  <tbody>\n",
       "    <tr>\n",
       "      <th>38</th>\n",
       "      <td>2020-01-01 01:00:00</td>\n",
       "      <td>9</td>\n",
       "      <td>38</td>\n",
       "      <td>NaN</td>\n",
       "      <td>км 38+300</td>\n",
       "      <td>34604682.0</td>\n",
       "      <td>53224.0</td>\n",
       "      <td>3.0</td>\n",
       "      <td>3.0</td>\n",
       "      <td>forward</td>\n",
       "      <td>87.0</td>\n",
       "      <td>1.0</td>\n",
       "      <td>114.671875</td>\n",
       "      <td>56.041809</td>\n",
       "      <td>37.892898</td>\n",
       "      <td>2020</td>\n",
       "      <td>0.0</td>\n",
       "    </tr>\n",
       "    <tr>\n",
       "      <th>39</th>\n",
       "      <td>2020-01-01 01:00:00</td>\n",
       "      <td>9</td>\n",
       "      <td>38</td>\n",
       "      <td>NaN</td>\n",
       "      <td>км 38+300</td>\n",
       "      <td>34604682.0</td>\n",
       "      <td>53224.0</td>\n",
       "      <td>2.0</td>\n",
       "      <td>3.0</td>\n",
       "      <td>forward</td>\n",
       "      <td>207.0</td>\n",
       "      <td>1.0</td>\n",
       "      <td>115.708435</td>\n",
       "      <td>56.041809</td>\n",
       "      <td>37.892898</td>\n",
       "      <td>2020</td>\n",
       "      <td>0.0</td>\n",
       "    </tr>\n",
       "    <tr>\n",
       "      <th>40</th>\n",
       "      <td>2020-01-01 01:00:00</td>\n",
       "      <td>9</td>\n",
       "      <td>38</td>\n",
       "      <td>NaN</td>\n",
       "      <td>км 38+300</td>\n",
       "      <td>34604682.0</td>\n",
       "      <td>53224.0</td>\n",
       "      <td>1.0</td>\n",
       "      <td>3.0</td>\n",
       "      <td>forward</td>\n",
       "      <td>43.0</td>\n",
       "      <td>20.0</td>\n",
       "      <td>46.453125</td>\n",
       "      <td>56.041809</td>\n",
       "      <td>37.892898</td>\n",
       "      <td>2020</td>\n",
       "      <td>0.0</td>\n",
       "    </tr>\n",
       "    <tr>\n",
       "      <th>41</th>\n",
       "      <td>2020-01-01 01:00:00</td>\n",
       "      <td>9</td>\n",
       "      <td>38</td>\n",
       "      <td>NaN</td>\n",
       "      <td>км 38+300</td>\n",
       "      <td>34604682.0</td>\n",
       "      <td>53224.0</td>\n",
       "      <td>2.0</td>\n",
       "      <td>3.0</td>\n",
       "      <td>backward</td>\n",
       "      <td>195.0</td>\n",
       "      <td>1.0</td>\n",
       "      <td>97.796875</td>\n",
       "      <td>56.041809</td>\n",
       "      <td>37.892898</td>\n",
       "      <td>2020</td>\n",
       "      <td>0.0</td>\n",
       "    </tr>\n",
       "    <tr>\n",
       "      <th>42</th>\n",
       "      <td>2020-01-01 01:00:00</td>\n",
       "      <td>9</td>\n",
       "      <td>38</td>\n",
       "      <td>NaN</td>\n",
       "      <td>км 38+300</td>\n",
       "      <td>34604682.0</td>\n",
       "      <td>53224.0</td>\n",
       "      <td>3.0</td>\n",
       "      <td>3.0</td>\n",
       "      <td>backward</td>\n",
       "      <td>89.0</td>\n",
       "      <td>1.0</td>\n",
       "      <td>108.213440</td>\n",
       "      <td>56.041809</td>\n",
       "      <td>37.892898</td>\n",
       "      <td>2020</td>\n",
       "      <td>0.0</td>\n",
       "    </tr>\n",
       "  </tbody>\n",
       "</table>\n",
       "</div>"
      ],
      "text/plain": [
       "              datetime  road_id  road_km  target       name     data_id  \\\n",
       "38 2020-01-01 01:00:00        9       38     NaN  км 38+300  34604682.0   \n",
       "39 2020-01-01 01:00:00        9       38     NaN  км 38+300  34604682.0   \n",
       "40 2020-01-01 01:00:00        9       38     NaN  км 38+300  34604682.0   \n",
       "41 2020-01-01 01:00:00        9       38     NaN  км 38+300  34604682.0   \n",
       "42 2020-01-01 01:00:00        9       38     NaN  км 38+300  34604682.0   \n",
       "\n",
       "    station_id  lane  lane_count direction  volume  occupancy       speed  \\\n",
       "38     53224.0   3.0         3.0   forward    87.0        1.0  114.671875   \n",
       "39     53224.0   2.0         3.0   forward   207.0        1.0  115.708435   \n",
       "40     53224.0   1.0         3.0   forward    43.0       20.0   46.453125   \n",
       "41     53224.0   2.0         3.0  backward   195.0        1.0   97.796875   \n",
       "42     53224.0   3.0         3.0  backward    89.0        1.0  108.213440   \n",
       "\n",
       "     latitude  longitude  year  repair  \n",
       "38  56.041809  37.892898  2020     0.0  \n",
       "39  56.041809  37.892898  2020     0.0  \n",
       "40  56.041809  37.892898  2020     0.0  \n",
       "41  56.041809  37.892898  2020     0.0  \n",
       "42  56.041809  37.892898  2020     0.0  "
      ]
     },
     "execution_count": 150,
     "metadata": {},
     "output_type": "execute_result"
    }
   ],
   "source": [
    "index_repair = test[test.set_index(['road_km','year']).index.isin(repair.set_index(['road_km','year']).index)].index\n",
    "test.loc[index_repair, 'repair'] = 1\n",
    "test['repair'] = test['repair'].fillna(0)\n",
    "test.head()"
   ]
  },
  {
   "cell_type": "code",
   "execution_count": 151,
   "metadata": {},
   "outputs": [
    {
     "name": "stdout",
     "output_type": "stream",
     "text": [
      "Размер выборки для тестирования:  (1275667, 17)\n"
     ]
    }
   ],
   "source": [
    "print(\"Размер выборки для тестирования: \", test.shape)"
   ]
  },
  {
   "cell_type": "code",
   "execution_count": 152,
   "metadata": {},
   "outputs": [],
   "source": [
    "# выбор переменных\n",
    "columns = ['volume',\n",
    "           'occupancy',\n",
    "           'speed',\n",
    "           'repair']"
   ]
  },
  {
   "cell_type": "markdown",
   "metadata": {},
   "source": [
    "#### Предсказание и оценка модели"
   ]
  },
  {
   "cell_type": "code",
   "execution_count": 153,
   "metadata": {},
   "outputs": [
    {
     "name": "stdout",
     "output_type": "stream",
     "text": [
      "CPU times: user 27min 5s, sys: 4.86 s, total: 27min 10s\n",
      "Wall time: 27min 15s\n"
     ]
    }
   ],
   "source": [
    "%%time\n",
    "# предсказание значений переменной target\n",
    "test['target'] =  clf.predict(test[columns])"
   ]
  },
  {
   "cell_type": "code",
   "execution_count": 154,
   "metadata": {},
   "outputs": [],
   "source": [
    "prediction = test[['datetime','road_id','road_km','target']]\n",
    "prediction.to_csv('prediction.csv', index=False)"
   ]
  },
  {
   "cell_type": "code",
   "execution_count": 45,
   "metadata": {},
   "outputs": [],
   "source": [
    "# загрузка реальных данных тестовой выборки\n",
    "test_secret = pd.read_csv('data/test_secret.pickle', parse_dates=['datetime'])\n",
    "# выбор трассы М-8\n",
    "test_secret = test_secret[test_secret[\"road_id\"]==9]"
   ]
  },
  {
   "cell_type": "code",
   "execution_count": 46,
   "metadata": {},
   "outputs": [],
   "source": [
    "check = pd.merge(prediction, test_secret, how='left', on=['datetime', 'road_km','road_id'])\n",
    "# сформируем выборку предсказанных занчений\n",
    "check = check.drop(check[check['target_y'].isnull()].index)"
   ]
  },
  {
   "cell_type": "code",
   "execution_count": 47,
   "metadata": {},
   "outputs": [
    {
     "data": {
      "text/html": [
       "<div>\n",
       "<style scoped>\n",
       "    .dataframe tbody tr th:only-of-type {\n",
       "        vertical-align: middle;\n",
       "    }\n",
       "\n",
       "    .dataframe tbody tr th {\n",
       "        vertical-align: top;\n",
       "    }\n",
       "\n",
       "    .dataframe thead th {\n",
       "        text-align: right;\n",
       "    }\n",
       "</style>\n",
       "<table border=\"1\" class=\"dataframe\">\n",
       "  <thead>\n",
       "    <tr style=\"text-align: right;\">\n",
       "      <th></th>\n",
       "      <th>datetime</th>\n",
       "      <th>road_id</th>\n",
       "      <th>road_km</th>\n",
       "      <th>target_x</th>\n",
       "      <th>target_y</th>\n",
       "    </tr>\n",
       "  </thead>\n",
       "  <tbody>\n",
       "  </tbody>\n",
       "</table>\n",
       "</div>"
      ],
      "text/plain": [
       "Empty DataFrame\n",
       "Columns: [datetime, road_id, road_km, target_x, target_y]\n",
       "Index: []"
      ]
     },
     "execution_count": 47,
     "metadata": {},
     "output_type": "execute_result"
    }
   ],
   "source": [
    "check.head()"
   ]
  },
  {
   "cell_type": "code",
   "execution_count": 48,
   "metadata": {},
   "outputs": [
    {
     "name": "stdout",
     "output_type": "stream",
     "text": [
      "Кол-во предсказанных значений:  0\n",
      "Кол-во фактических значений:  0\n"
     ]
    }
   ],
   "source": [
    "print(\"Кол-во предсказанных значений: \", check['target_x'].shape[0])\n",
    "print(\"Кол-во фактических значений: \", check['target_y'].shape[0])"
   ]
  },
  {
   "cell_type": "code",
   "execution_count": 49,
   "metadata": {},
   "outputs": [
    {
     "name": "stderr",
     "output_type": "stream",
     "text": [
      "/Users/dmitriy.donchenko/opt/anaconda3/lib/python3.8/site-packages/numpy/lib/function_base.py:380: RuntimeWarning: Mean of empty slice.\n",
      "  avg = a.mean(axis)\n",
      "/Users/dmitriy.donchenko/opt/anaconda3/lib/python3.8/site-packages/numpy/core/_methods.py:188: RuntimeWarning: invalid value encountered in double_scalars\n",
      "  ret = ret.dtype.type(ret / rcount)\n"
     ]
    },
    {
     "data": {
      "text/plain": [
       "nan"
      ]
     },
     "execution_count": 49,
     "metadata": {},
     "output_type": "execute_result"
    }
   ],
   "source": [
    "# оценка модели на реальных данных тестовой выборки \n",
    "f1_score(check['target_y'], check['target_x'], average='macro')"
   ]
  },
  {
   "cell_type": "code",
   "execution_count": null,
   "metadata": {},
   "outputs": [],
   "source": []
  }
 ],
 "metadata": {
  "colab": {
   "collapsed_sections": [],
   "name": "baseline_track_third.ipynb",
   "provenance": []
  },
  "kernelspec": {
   "display_name": "Python 3",
   "language": "python",
   "name": "python3"
  },
  "language_info": {
   "codemirror_mode": {
    "name": "ipython",
    "version": 3
   },
   "file_extension": ".py",
   "mimetype": "text/x-python",
   "name": "python",
   "nbconvert_exporter": "python",
   "pygments_lexer": "ipython3",
   "version": "3.8.8"
  }
 },
 "nbformat": 4,
 "nbformat_minor": 4
}
